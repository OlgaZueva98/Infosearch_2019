{
  "nbformat": 4,
  "nbformat_minor": 0,
  "metadata": {
    "colab": {
      "name": "Project_infosearch.ipynb",
      "provenance": [],
      "collapsed_sections": [],
      "toc_visible": true,
      "machine_shape": "hm"
    },
    "kernelspec": {
      "name": "python3",
      "display_name": "Python 3"
    },
    "accelerator": "TPU"
  },
  "cells": [
    {
      "cell_type": "code",
      "metadata": {
        "id": "BchIM5iUv9KI",
        "colab_type": "code",
        "outputId": "061e7bef-b33d-4f49-86f8-b510f3c0992b",
        "colab": {
          "resources": {
            "http://localhost:8080/nbextensions/google.colab/files.js": {
              "data": "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",
              "ok": true,
              "headers": [
                [
                  "content-type",
                  "application/javascript"
                ]
              ],
              "status": 200,
              "status_text": ""
            }
          },
          "base_uri": "https://localhost:8080/",
          "height": 74
        }
      },
      "source": [
        "from google.colab import files\n",
        "uploaded = files.upload()"
      ],
      "execution_count": 0,
      "outputs": [
        {
          "output_type": "display_data",
          "data": {
            "text/html": [
              "\n",
              "     <input type=\"file\" id=\"files-59221b12-0d78-4b81-ac55-b05bf296599e\" name=\"files[]\" multiple disabled />\n",
              "     <output id=\"result-59221b12-0d78-4b81-ac55-b05bf296599e\">\n",
              "      Upload widget is only available when the cell has been executed in the\n",
              "      current browser session. Please rerun this cell to enable.\n",
              "      </output>\n",
              "      <script src=\"/nbextensions/google.colab/files.js\"></script> "
            ],
            "text/plain": [
              "<IPython.core.display.HTML object>"
            ]
          },
          "metadata": {
            "tags": []
          }
        },
        {
          "output_type": "stream",
          "text": [
            "Saving quora_question_pairs_rus.csv.zip to quora_question_pairs_rus.csv.zip\n"
          ],
          "name": "stdout"
        }
      ]
    },
    {
      "cell_type": "code",
      "metadata": {
        "id": "gX4G76v80m0l",
        "colab_type": "code",
        "colab": {}
      },
      "source": [
        "import zipfile\n",
        "import io\n",
        "import csv"
      ],
      "execution_count": 0,
      "outputs": []
    },
    {
      "cell_type": "code",
      "metadata": {
        "id": "bmFbWPwx0m-D",
        "colab_type": "code",
        "colab": {}
      },
      "source": [
        "zf = zipfile.ZipFile(io.BytesIO(uploaded['quora_question_pairs_rus.csv.zip']), \"r\")\n",
        "zf.extractall()"
      ],
      "execution_count": 0,
      "outputs": []
    },
    {
      "cell_type": "code",
      "metadata": {
        "id": "O_L-DHLy0rem",
        "colab_type": "code",
        "outputId": "8c6c1ea9-b846-47f5-adf5-1d6ca4193070",
        "colab": {
          "base_uri": "https://localhost:8080/",
          "height": 306
        }
      },
      "source": [
        "import pandas as pd\n",
        "pd.read_csv('quora_question_pairs_rus.csv')[:5]"
      ],
      "execution_count": 0,
      "outputs": [
        {
          "output_type": "execute_result",
          "data": {
            "text/html": [
              "<div>\n",
              "<style scoped>\n",
              "    .dataframe tbody tr th:only-of-type {\n",
              "        vertical-align: middle;\n",
              "    }\n",
              "\n",
              "    .dataframe tbody tr th {\n",
              "        vertical-align: top;\n",
              "    }\n",
              "\n",
              "    .dataframe thead th {\n",
              "        text-align: right;\n",
              "    }\n",
              "</style>\n",
              "<table border=\"1\" class=\"dataframe\">\n",
              "  <thead>\n",
              "    <tr style=\"text-align: right;\">\n",
              "      <th></th>\n",
              "      <th>Unnamed: 0</th>\n",
              "      <th>question1</th>\n",
              "      <th>question2</th>\n",
              "      <th>is_duplicate</th>\n",
              "    </tr>\n",
              "  </thead>\n",
              "  <tbody>\n",
              "    <tr>\n",
              "      <th>0</th>\n",
              "      <td>0</td>\n",
              "      <td>Какова история кохинор кох-и-ноор-бриллиант</td>\n",
              "      <td>что произойдет, если правительство Индии украд...</td>\n",
              "      <td>0</td>\n",
              "    </tr>\n",
              "    <tr>\n",
              "      <th>1</th>\n",
              "      <td>1</td>\n",
              "      <td>как я могу увеличить скорость моего интернет-с...</td>\n",
              "      <td>как повысить скорость интернета путем взлома ч...</td>\n",
              "      <td>0</td>\n",
              "    </tr>\n",
              "    <tr>\n",
              "      <th>2</th>\n",
              "      <td>2</td>\n",
              "      <td>почему я мысленно очень одинок, как я могу это...</td>\n",
              "      <td>найти остаток, когда математика 23 ^ 24 матема...</td>\n",
              "      <td>0</td>\n",
              "    </tr>\n",
              "    <tr>\n",
              "      <th>3</th>\n",
              "      <td>3</td>\n",
              "      <td>которые растворяют в воде быстро сахарную соль...</td>\n",
              "      <td>какая рыба выживет в соленой воде</td>\n",
              "      <td>0</td>\n",
              "    </tr>\n",
              "    <tr>\n",
              "      <th>4</th>\n",
              "      <td>4</td>\n",
              "      <td>астрология: я - луна-колпачок из козерога и кр...</td>\n",
              "      <td>Я тройная луна-козерог и восхождение в козерог...</td>\n",
              "      <td>1</td>\n",
              "    </tr>\n",
              "  </tbody>\n",
              "</table>\n",
              "</div>"
            ],
            "text/plain": [
              "   Unnamed: 0  ... is_duplicate\n",
              "0           0  ...            0\n",
              "1           1  ...            0\n",
              "2           2  ...            0\n",
              "3           3  ...            0\n",
              "4           4  ...            1\n",
              "\n",
              "[5 rows x 4 columns]"
            ]
          },
          "metadata": {
            "tags": []
          },
          "execution_count": 4
        }
      ]
    },
    {
      "cell_type": "code",
      "metadata": {
        "id": "wO0XNB730rm7",
        "colab_type": "code",
        "colab": {}
      },
      "source": [
        "with open('quora_question_pairs_rus.csv', 'r') as f:\n",
        "  reader = csv.reader(f)\n",
        "  corpus = list(reader)"
      ],
      "execution_count": 0,
      "outputs": []
    },
    {
      "cell_type": "code",
      "metadata": {
        "id": "bP6erlXn0rs8",
        "colab_type": "code",
        "outputId": "bc645ca3-f384-405d-8001-cb49e6f496e6",
        "colab": {
          "base_uri": "https://localhost:8080/",
          "height": 34
        }
      },
      "source": [
        "corpus.pop(0)"
      ],
      "execution_count": 0,
      "outputs": [
        {
          "output_type": "execute_result",
          "data": {
            "text/plain": [
              "['', 'question1', 'question2', 'is_duplicate']"
            ]
          },
          "metadata": {
            "tags": []
          },
          "execution_count": 5
        }
      ]
    },
    {
      "cell_type": "code",
      "metadata": {
        "id": "SupWkzY200mf",
        "colab_type": "code",
        "colab": {}
      },
      "source": [
        "for doc in corpus:\n",
        "  doc = doc.pop(3)"
      ],
      "execution_count": 0,
      "outputs": []
    },
    {
      "cell_type": "code",
      "metadata": {
        "id": "gGzCRAY202QT",
        "colab_type": "code",
        "colab": {}
      },
      "source": [
        "for doc in corpus:\n",
        "  doc = doc.pop(0)"
      ],
      "execution_count": 0,
      "outputs": []
    },
    {
      "cell_type": "code",
      "metadata": {
        "id": "fXnD5PsV07Nc",
        "colab_type": "code",
        "outputId": "4b9fe561-098d-41dd-ad79-fdb23f79496b",
        "colab": {
          "base_uri": "https://localhost:8080/",
          "height": 187
        }
      },
      "source": [
        "corpus[:5]"
      ],
      "execution_count": 0,
      "outputs": [
        {
          "output_type": "execute_result",
          "data": {
            "text/plain": [
              "[['Какова история кохинор кох-и-ноор-бриллиант',\n",
              "  'что произойдет, если правительство Индии украдет кохинор кох-и-ноор-алмаз назад'],\n",
              " ['как я могу увеличить скорость моего интернет-соединения, используя vpn',\n",
              "  'как повысить скорость интернета путем взлома через dns'],\n",
              " ['почему я мысленно очень одинок, как я могу это решить',\n",
              "  'найти остаток, когда математика 23 ^ 24 математика разделена на 24 23'],\n",
              " ['которые растворяют в воде быстро сахарную соль метан и углеродный диоксид',\n",
              "  'какая рыба выживет в соленой воде'],\n",
              " ['астрология: я - луна-колпачок из козерога и крышка, поднимающая то, что это говорит обо мне',\n",
              "  'Я тройная луна-козерог и восхождение в козероге, что это говорит обо мне']]"
            ]
          },
          "metadata": {
            "tags": []
          },
          "execution_count": 10
        }
      ]
    },
    {
      "cell_type": "code",
      "metadata": {
        "id": "U5VIpsUq2RBc",
        "colab_type": "code",
        "colab": {}
      },
      "source": [
        "from itertools import chain"
      ],
      "execution_count": 0,
      "outputs": []
    },
    {
      "cell_type": "code",
      "metadata": {
        "id": "oCE5fRsJ2NK8",
        "colab_type": "code",
        "colab": {}
      },
      "source": [
        "corpus = list(chain.from_iterable(corpus))"
      ],
      "execution_count": 0,
      "outputs": []
    },
    {
      "cell_type": "code",
      "metadata": {
        "id": "ifNhaMUF2UuY",
        "colab_type": "code",
        "outputId": "539e202b-adc9-4610-eae2-27f7a709a1b1",
        "colab": {
          "base_uri": "https://localhost:8080/",
          "height": 102
        }
      },
      "source": [
        "corpus[:5]"
      ],
      "execution_count": 0,
      "outputs": [
        {
          "output_type": "execute_result",
          "data": {
            "text/plain": [
              "['Какова история кохинор кох-и-ноор-бриллиант',\n",
              " 'что произойдет, если правительство Индии украдет кохинор кох-и-ноор-алмаз назад',\n",
              " 'как я могу увеличить скорость моего интернет-соединения, используя vpn',\n",
              " 'как повысить скорость интернета путем взлома через dns',\n",
              " 'почему я мысленно очень одинок, как я могу это решить']"
            ]
          },
          "metadata": {
            "tags": []
          },
          "execution_count": 12
        }
      ]
    },
    {
      "cell_type": "markdown",
      "metadata": {
        "id": "68Z4RNaT1hn8",
        "colab_type": "text"
      },
      "source": [
        "# Preprocessing"
      ]
    },
    {
      "cell_type": "code",
      "metadata": {
        "id": "Q_IvlYZs07vN",
        "colab_type": "code",
        "outputId": "e911b761-11c3-45e7-c355-39f3ff4a379a",
        "colab": {
          "base_uri": "https://localhost:8080/",
          "height": 51
        }
      },
      "source": [
        "import nltk\n",
        "nltk.download('stopwords')\n",
        "from nltk.corpus import stopwords\n",
        "mystopwords = stopwords.words('russian')\n",
        "import re"
      ],
      "execution_count": 0,
      "outputs": [
        {
          "output_type": "stream",
          "text": [
            "[nltk_data] Downloading package stopwords to /root/nltk_data...\n",
            "[nltk_data]   Package stopwords is already up-to-date!\n"
          ],
          "name": "stdout"
        }
      ]
    },
    {
      "cell_type": "code",
      "metadata": {
        "id": "5xtT1Z4-2zcd",
        "colab_type": "code",
        "colab": {}
      },
      "source": [
        "def preprocess(data):\n",
        "  data = [word.lower().strip('!\\\"#$%&()*+-./:;<=>?@[\\]^_`{|}~\\n') for word in data if word not in mystopwords]\n",
        "\n",
        "  return data"
      ],
      "execution_count": 0,
      "outputs": []
    },
    {
      "cell_type": "code",
      "metadata": {
        "id": "o6UKOF5Q8sGS",
        "colab_type": "code",
        "colab": {}
      },
      "source": [
        "corpus = preprocess(corpus)"
      ],
      "execution_count": 0,
      "outputs": []
    },
    {
      "cell_type": "code",
      "metadata": {
        "id": "M7WBJQcG9oaZ",
        "colab_type": "code",
        "outputId": "8ec28d75-ef41-4eeb-8650-454adce2c9de",
        "colab": {
          "base_uri": "https://localhost:8080/",
          "height": 102
        }
      },
      "source": [
        "corpus[:5]"
      ],
      "execution_count": 0,
      "outputs": [
        {
          "output_type": "execute_result",
          "data": {
            "text/plain": [
              "['какова история кохинор кох-и-ноор-бриллиант',\n",
              " 'что произойдет, если правительство индии украдет кохинор кох-и-ноор-алмаз назад',\n",
              " 'как я могу увеличить скорость моего интернет-соединения, используя vpn',\n",
              " 'как повысить скорость интернета путем взлома через dns',\n",
              " 'почему я мысленно очень одинок, как я могу это решить']"
            ]
          },
          "metadata": {
            "tags": []
          },
          "execution_count": 18
        }
      ]
    },
    {
      "cell_type": "markdown",
      "metadata": {
        "id": "TXrJ5tBG6AXe",
        "colab_type": "text"
      },
      "source": [
        "# Inverted Index"
      ]
    },
    {
      "cell_type": "code",
      "metadata": {
        "id": "f3wr0Ulq51IB",
        "colab_type": "code",
        "colab": {}
      },
      "source": [
        "from collections import defaultdict"
      ],
      "execution_count": 0,
      "outputs": []
    },
    {
      "cell_type": "code",
      "metadata": {
        "id": "W-Wbh0C3PGLB",
        "colab_type": "code",
        "colab": {}
      },
      "source": [
        "lemmas = []\n",
        "for doc in corpus:\n",
        "  lemmas.append(doc.split())"
      ],
      "execution_count": 0,
      "outputs": []
    },
    {
      "cell_type": "code",
      "metadata": {
        "id": "OXCZf6kHPbeH",
        "colab_type": "code",
        "outputId": "e4ebffd0-9f8d-4053-a4d1-bc61e82931ec",
        "colab": {
          "base_uri": "https://localhost:8080/",
          "height": 340
        }
      },
      "source": [
        "lemmas[:3]"
      ],
      "execution_count": 0,
      "outputs": [
        {
          "output_type": "execute_result",
          "data": {
            "text/plain": [
              "[['какова', 'история', 'кохинор', 'кох-и-ноор-бриллиант'],\n",
              " ['что',\n",
              "  'произойдет,',\n",
              "  'если',\n",
              "  'правительство',\n",
              "  'индии',\n",
              "  'украдет',\n",
              "  'кохинор',\n",
              "  'кох-и-ноор-алмаз',\n",
              "  'назад'],\n",
              " ['как',\n",
              "  'я',\n",
              "  'могу',\n",
              "  'увеличить',\n",
              "  'скорость',\n",
              "  'моего',\n",
              "  'интернет-соединения,',\n",
              "  'используя',\n",
              "  'vpn']]"
            ]
          },
          "metadata": {
            "tags": []
          },
          "execution_count": 16
        }
      ]
    },
    {
      "cell_type": "code",
      "metadata": {
        "id": "b1YIJvXfrSmK",
        "colab_type": "code",
        "colab": {}
      },
      "source": [
        "with open('Lemmas.txt', 'w', encoding='utf-8') as f:\n",
        "  f.write(str(lemmas))"
      ],
      "execution_count": 0,
      "outputs": []
    },
    {
      "cell_type": "code",
      "metadata": {
        "id": "Vatx_18U-jtg",
        "colab_type": "code",
        "colab": {}
      },
      "source": [
        "termdict = {}"
      ],
      "execution_count": 0,
      "outputs": []
    },
    {
      "cell_type": "code",
      "metadata": {
        "id": "cxA-bBS2CbVw",
        "colab_type": "code",
        "colab": {}
      },
      "source": [
        "for idx, element in enumerate(lemmas):\n",
        "  termdict[idx] = element"
      ],
      "execution_count": 0,
      "outputs": []
    },
    {
      "cell_type": "code",
      "metadata": {
        "id": "IXCYL2rrCpo0",
        "colab_type": "code",
        "outputId": "015d0ae1-6837-4140-b424-69d22e29079d",
        "colab": {
          "base_uri": "https://localhost:8080/",
          "height": 34
        }
      },
      "source": [
        "termdict[10]"
      ],
      "execution_count": 0,
      "outputs": [
        {
          "output_type": "execute_result",
          "data": {
            "text/plain": [
              "['я', 'должен', 'купить', 'tiago']"
            ]
          },
          "metadata": {
            "tags": []
          },
          "execution_count": 53
        }
      ]
    },
    {
      "cell_type": "code",
      "metadata": {
        "id": "xkVoHKJGMtDC",
        "colab_type": "code",
        "colab": {}
      },
      "source": [
        "inv_idx = {}"
      ],
      "execution_count": 0,
      "outputs": []
    },
    {
      "cell_type": "code",
      "metadata": {
        "id": "PTHNkUlITA8b",
        "colab_type": "code",
        "colab": {}
      },
      "source": [
        "inv_idx = defaultdict(list)\n",
        "for k,value in termdict.items():\n",
        "    for v in value:\n",
        "        inv_idx[v].append(k)"
      ],
      "execution_count": 0,
      "outputs": []
    },
    {
      "cell_type": "code",
      "metadata": {
        "id": "t1yIjGifTGJs",
        "colab_type": "code",
        "outputId": "c68253e3-3b69-43aa-9370-51197b104799",
        "colab": {
          "base_uri": "https://localhost:8080/",
          "height": 425
        }
      },
      "source": [
        "inv_idx['каникулы']"
      ],
      "execution_count": 0,
      "outputs": [
        {
          "output_type": "execute_result",
          "data": {
            "text/plain": [
              "[35417,\n",
              " 35418,\n",
              " 46956,\n",
              " 47464,\n",
              " 60238,\n",
              " 113282,\n",
              " 152069,\n",
              " 156476,\n",
              " 156477,\n",
              " 157966,\n",
              " 157967,\n",
              " 210303,\n",
              " 229658,\n",
              " 284283,\n",
              " 347097,\n",
              " 423173,\n",
              " 428202,\n",
              " 439312,\n",
              " 482061,\n",
              " 512449,\n",
              " 572439,\n",
              " 678546,\n",
              " 765026,\n",
              " 769925]"
            ]
          },
          "metadata": {
            "tags": []
          },
          "execution_count": 60
        }
      ]
    },
    {
      "cell_type": "code",
      "metadata": {
        "id": "_7xgS7g4wh2F",
        "colab_type": "code",
        "colab": {}
      },
      "source": [
        "import json"
      ],
      "execution_count": 0,
      "outputs": []
    },
    {
      "cell_type": "code",
      "metadata": {
        "id": "7CyhUx-Nwkd4",
        "colab_type": "code",
        "colab": {}
      },
      "source": [
        "with open('Inverted_idx.json', 'w', encoding='utf-8') as fp:\n",
        "  json.dump(inv_idx, fp)"
      ],
      "execution_count": 0,
      "outputs": []
    },
    {
      "cell_type": "markdown",
      "metadata": {
        "id": "SZfJBGiDGBK1",
        "colab_type": "text"
      },
      "source": [
        "# TF-IDF"
      ]
    },
    {
      "cell_type": "code",
      "metadata": {
        "id": "BLiVqelnVxHm",
        "colab_type": "code",
        "colab": {}
      },
      "source": [
        "from collections import Counter\n",
        "import numpy as np"
      ],
      "execution_count": 0,
      "outputs": []
    },
    {
      "cell_type": "code",
      "metadata": {
        "id": "VOTYj-vV6Sj7",
        "colab_type": "code",
        "colab": {}
      },
      "source": [
        "DF = {}\n",
        "N = len(lemmas)\n",
        "for i in range(N):\n",
        "    tokens = lemmas[i]\n",
        "    for w in tokens:\n",
        "        try:\n",
        "            DF[w].add(i)\n",
        "        except:\n",
        "            DF[w] = {i}\n",
        "\n",
        "for i in DF:\n",
        "    DF[i] = len(DF[i])"
      ],
      "execution_count": 0,
      "outputs": []
    },
    {
      "cell_type": "code",
      "metadata": {
        "id": "5oWslYrxGF1I",
        "colab_type": "code",
        "colab": {}
      },
      "source": [
        "total_vocab_size = len(DF)"
      ],
      "execution_count": 0,
      "outputs": []
    },
    {
      "cell_type": "code",
      "metadata": {
        "id": "hGJIZUGbGJAw",
        "colab_type": "code",
        "outputId": "9642b89a-49f3-470e-d081-9364b907b01f",
        "colab": {
          "base_uri": "https://localhost:8080/",
          "height": 34
        }
      },
      "source": [
        "total_vocab_size"
      ],
      "execution_count": 0,
      "outputs": [
        {
          "output_type": "execute_result",
          "data": {
            "text/plain": [
              "242396"
            ]
          },
          "metadata": {
            "tags": []
          },
          "execution_count": 21
        }
      ]
    },
    {
      "cell_type": "code",
      "metadata": {
        "id": "3k8_pg-wGJgp",
        "colab_type": "code",
        "colab": {}
      },
      "source": [
        "def doc_freq(word):\n",
        "    c = 0\n",
        "    try:\n",
        "        c = DF[word]\n",
        "    except:\n",
        "        pass\n",
        "    return c"
      ],
      "execution_count": 0,
      "outputs": []
    },
    {
      "cell_type": "code",
      "metadata": {
        "id": "z9AZrY3YGPLi",
        "colab_type": "code",
        "colab": {}
      },
      "source": [
        "doc = 0\n",
        "\n",
        "tf_idf = {}\n",
        "\n",
        "for i in range(N):\n",
        "    \n",
        "    tokens = lemmas[i]\n",
        "    \n",
        "    counter = Counter(tokens)\n",
        "    words_count = len(tokens)\n",
        "    \n",
        "    for token in np.unique(tokens):\n",
        "        \n",
        "        tf = counter[token]/words_count\n",
        "        df = doc_freq(token)\n",
        "        idf = np.log((N+1)/(df+1))\n",
        "        \n",
        "        tf_idf[doc, token] = tf*idf\n",
        "\n",
        "    doc += 1"
      ],
      "execution_count": 0,
      "outputs": []
    },
    {
      "cell_type": "code",
      "metadata": {
        "id": "LEHy-cTuWKHU",
        "colab_type": "code",
        "outputId": "e4942989-1daa-4247-f601-a0b40c13eea5",
        "colab": {
          "base_uri": "https://localhost:8080/",
          "height": 1000
        }
      },
      "source": [
        "tf_idf"
      ],
      "execution_count": 0,
      "outputs": [
        {
          "output_type": "execute_result",
          "data": {
            "text/plain": [
              "{(0, 'история'): 1.610920289566181,\n",
              " (0, 'какова'): 0.9707169073793591,\n",
              " (0, 'кох-и-ноор-бриллиант'): 2.998383787657047,\n",
              " (0, 'кохинор'): 2.759505926400188,\n",
              " (1, 'если'): 0.3279965025445213,\n",
              " (1, 'индии'): 0.4115829808475412,\n",
              " (1, 'кох-и-ноор-алмаз'): 1.389373419377131,\n",
              " (1, 'кохинор'): 1.2264470784000834,\n",
              " (1, 'назад'): 0.7698235190275403,\n",
              " (1, 'правительство'): 0.6933697547382738,\n",
              " (1, 'произойдет,'): 0.6173804117532455,\n",
              " (1, 'украдет'): 1.2803923912647168,\n",
              " (1, 'что'): 0.18376430137876557,\n",
              " (2, 'vpn'): 0.9001905391686179,\n",
              " (2, 'интернет-соединения,'): 1.389373419377131,\n",
              " (2, 'используя'): 0.6867332624528294,\n",
              " (2, 'как'): 0.14678551605978518,\n",
              " (2, 'могу'): 0.2501845617000761,\n",
              " (2, 'моего'): 0.5653536395847069,\n",
              " (2, 'скорость'): 0.7215456585972352,\n",
              " (2, 'увеличить'): 0.6122357817248782,\n",
              " (2, 'я'): 0.1866106056594821,\n",
              " (3, 'dns'): 1.298012154774261,\n",
              " (3, 'взлома'): 0.9530109122701459,\n",
              " (3, 'интернета'): 0.9489632360822658,\n",
              " (3, 'как'): 0.16513370556725834,\n",
              " (3, 'повысить'): 0.9304847093212945,\n",
              " (3, 'путем'): 0.980508911148126,\n",
              " (3, 'скорость'): 0.8117388659218896,\n",
              " (3, 'через'): 0.6153513804209889,\n",
              " (4, 'как'): 0.13210696445380668,\n",
              " (4, 'могу'): 0.2251661055300685,\n",
              " (4, 'мысленно'): 0.9671147430337963,\n",
              " (4, 'одинок,'): 1.1205077790263918,\n",
              " (4, 'очень'): 0.5450486987282048,\n",
              " (4, 'почему'): 0.23060045350919134,\n",
              " (4, 'решить'): 0.6577434748423769,\n",
              " (4, 'это'): 0.3087575500726838,\n",
              " (4, 'я'): 0.33589909018706776,\n",
              " (5, '23'): 1.3359540674436732,\n",
              " (5, '24'): 1.2119118688614328,\n",
              " (5, '^'): 0.5391397590138517,\n",
              " (5, 'когда'): 0.28796328500245183,\n",
              " (5, 'математика'): 1.2310611603295705,\n",
              " (5, 'на'): 0.18302849024249815,\n",
              " (5, 'найти'): 0.38037409983602466,\n",
              " (5, 'остаток,'): 0.8422054584663173,\n",
              " (5, 'разделена'): 0.8798708854449054,\n",
              " (6, 'быстро'): 0.5286900942343262,\n",
              " (6, 'в'): 0.11446295973136639,\n",
              " (6, 'воде'): 0.687087977184207,\n",
              " (6, 'диоксид'): 0.9967196121315481,\n",
              " (6, 'и'): 0.17215303956101033,\n",
              " (6, 'которые'): 0.316198514008302,\n",
              " (6, 'метан'): 0.9904475329054616,\n",
              " (6, 'растворяют'): 1.0273079972789312,\n",
              " (6, 'сахарную'): 0.9967196121315481,\n",
              " (6, 'соль'): 0.7927428309523562,\n",
              " (6, 'углеродный'): 0.9642946172280271,\n",
              " (7, 'в'): 0.20984875950750503,\n",
              " (7, 'воде'): 1.2596612915043794,\n",
              " (7, 'выживет'): 1.6948309764295237,\n",
              " (7, 'какая'): 0.6844253166668831,\n",
              " (7, 'рыба'): 1.5347539847316416,\n",
              " (7, 'соленой'): 1.3615418432513415,\n",
              " (8, '-'): 0.25579401242918887,\n",
              " (8, 'астрология:'): 0.6737643667730538,\n",
              " (8, 'говорит'): 0.45061487427040425,\n",
              " (8, 'и'): 0.1262455623447409,\n",
              " (8, 'из'): 0.22252684201565634,\n",
              " (8, 'козерога'): 0.7141734203444083,\n",
              " (8, 'крышка,'): 0.8606550588334895,\n",
              " (8, 'луна-колпачок'): 0.8606550588334895,\n",
              " (8, 'мне'): 0.2517253807853249,\n",
              " (8, 'обо'): 0.48656828404268715,\n",
              " (8, 'поднимающая'): 0.8144452467961598,\n",
              " (8, 'то,'): 0.3330991842778193,\n",
              " (8, 'что'): 0.11025858082725935,\n",
              " (8, 'это'): 0.20583836671512254,\n",
              " (8, 'я'): 0.11196636339568926,\n",
              " (9, 'в'): 0.10492437975375252,\n",
              " (9, 'восхождение'): 0.8974799765838394,\n",
              " (9, 'говорит'): 0.5632685928380052,\n",
              " (9, 'и'): 0.15780695293092611,\n",
              " (9, 'козероге,'): 1.0758188235418618,\n",
              " (9, 'луна-козерог'): 1.0758188235418618,\n",
              " (9, 'мне'): 0.31465672598165617,\n",
              " (9, 'обо'): 0.6082103550533589,\n",
              " (9, 'тройная'): 0.9136596444539191,\n",
              " (9, 'что'): 0.13782322603407418,\n",
              " (9, 'это'): 0.2572979583939031,\n",
              " (9, 'я'): 0.13995795424461155,\n",
              " (10, 'tiago'): 2.998383787657047,\n",
              " (10, 'должен'): 0.8586656830551156,\n",
              " (10, 'купить'): 1.2916390454183349,\n",
              " (10, 'я'): 0.4198738627338347,\n",
              " (11, 'активными'): 0.9992055150418064,\n",
              " (11, 'видеоигр'): 0.8720171140475919,\n",
              " (11, 'далеки'): 1.1811213593834233,\n",
              " (11, 'делает'): 0.4658814232091884,\n",
              " (11, 'детей'): 0.6503771319509197,\n",
              " (11, 'и'): 0.37873668703422275,\n",
              " (11, 'от'): 0.36288872616806245,\n",
              " (11, 'телефонных'): 0.9559921795227739,\n",
              " (11, 'что'): 0.16538787124088905,\n",
              " (12, 'быть'): 0.651804002731768,\n",
              " (12, 'геологом'): 2.0840601290656964,\n",
              " (12, 'как'): 0.22017827408967777,\n",
              " (12, 'могу'): 0.3752768425501141,\n",
              " (12, 'хорошим'): 0.9138298725561971,\n",
              " (12, 'я'): 0.2799159084892231,\n",
              " (13, 'быть'): 0.488853002048826,\n",
              " (13, 'великим'): 1.102981196243845,\n",
              " (13, 'геологом'): 1.5630450967992724,\n",
              " (13, 'делать,'): 0.6935563066906244,\n",
              " (13, 'должен'): 0.4293328415275578,\n",
              " (13, 'что'): 0.20673483905111129,\n",
              " (13, 'чтобы'): 0.40533672190658193,\n",
              " (13, 'я'): 0.20993693136691735,\n",
              " (14, 'вместо'): 1.5623126831656644,\n",
              " (14, 'вы'): 0.6348700669583592,\n",
              " (14, 'используете'): 1.7990232692482435,\n",
              " (14, 'когда'): 0.8638898550073556,\n",
              " (15, 'вместо'): 1.5623126831656644,\n",
              " (15, 'вы'): 0.6348700669583592,\n",
              " (15, 'используете'): 1.7990232692482435,\n",
              " (15, 'когда'): 0.8638898550073556,\n",
              " (16, 'dcx3400'): 1.250436077439418,\n",
              " (16, 'motorola:'): 1.2909825882502344,\n",
              " (16, 'motorolla'): 1.2909825882502344,\n",
              " (16, 'взломать'): 0.5865792985227659,\n",
              " (16, 'компания'): 0.6663719117020781,\n",
              " (16, 'ли'): 0.29330414009047584,\n",
              " (16, 'могу'): 0.2251661055300685,\n",
              " (16, 'мой'): 0.43041640430984984,\n",
              " (16, 'чартер'): 1.1811213593834233,\n",
              " (16, 'я'): 0.16794954509353388,\n",
              " (17, 'dcx3400'): 1.389373419377131,\n",
              " (17, 'motorola'): 1.1102283500464516,\n",
              " (17, 'бесплатного'): 0.9714622954111797,\n",
              " (17, 'взломать'): 0.6517547761364064,\n",
              " (17, 'для'): 0.24428540650773023,\n",
              " (17, 'интернета'): 0.8435228765175696,\n",
              " (17, 'как'): 0.14678551605978518,\n",
              " (17, 'могу'): 0.2501845617000761,\n",
              " (17, 'я'): 0.1866106056594821,\n",
              " (18, 'бипризма'): 1.6137282353127929,\n",
              " (18, 'использованием'): 0.8267047246359661,\n",
              " (18, 'метод'): 0.9336968775082051,\n",
              " (18, 'определения'): 1.034995385490485,\n",
              " (18, 'прорезей'): 1.6137282353127929,\n",
              " (18, 'разделения'): 1.0881416578889223,\n",
              " (18, 'с'): 0.3147025359829915,\n",
              " (18, 'френеля'): 1.5270848377427997,\n",
              " (19, 'долговечности'): 0.8003626993045655,\n",
              " (19, 'и'): 0.2705262050244448,\n",
              " (19, 'их'): 0.33665096252066234,\n",
              " (19, 'компонентов'): 0.6894092388914901,\n",
              " (19, 'могут'): 0.3422372010653747,\n",
              " (19, 'надежности'): 0.7476770605095099,\n",
              " (19, 'некоторые'): 0.2745996915944264,\n",
              " (19, 'ноутбуков'): 0.623959900900479,\n",
              " (19, 'о'): 0.2393052388549139,\n",
              " (19, 'рассказать'): 0.5190105237082748,\n",
              " (19, 'специалисты'): 0.7735988814873218,\n",
              " (19, 'технические'): 0.5914259345659914,\n",
              " (19, 'что'): 0.11813419374349216,\n",
              " (20, 'youtube'): 0.7134886956213395,\n",
              " (20, 'и'): 0.2367104293963892,\n",
              " (20, 'к'): 0.4577978028218323,\n",
              " (20, 'как'): 0.16513370556725834,\n",
              " (20, 'комментарии'): 0.9639161064045647,\n",
              " (20, 'мне'): 0.47198508897248426,\n",
              " (20, 'находить'): 1.2711232323221429,\n",
              " (20, 'читать'): 0.7765218176658266,\n",
              " (21, 'youtube'): 0.6342121738856351,\n",
              " (21, 'все'): 0.47812863162872254,\n",
              " (21, 'к'): 0.4069313802860731,\n",
              " (21, 'как'): 0.14678551605978518,\n",
              " (21, 'комментарии'): 0.8568143168040575,\n",
              " (21, 'могу'): 0.2501845617000761,\n",
              " (21, 'мои'): 0.5676948030924104,\n",
              " (21, 'увидеть'): 0.7278057793144407,\n",
              " (21, 'я'): 0.1866106056594821,\n",
              " (22, 'для'): 0.31408123693851026,\n",
              " (22, 'изучения'): 0.758096564345683,\n",
              " (22, 'легкой'): 1.3447597601479804,\n",
              " (22, 'может'): 0.5246432627423249,\n",
              " (22, 'сделать'): 0.6090891443603674,\n",
              " (22, 'физику'): 1.2046412954320196,\n",
              " (22, 'что'): 0.2362683874869843,\n",
              " (23, 'вы'): 0.4232467113055728,\n",
              " (23, 'как'): 0.22017827408967777,\n",
              " (23, 'легко'): 0.9707238192894132,\n",
              " (23, 'можете'): 0.7041528811135855,\n",
              " (23, 'научиться'): 0.9732544457224876,\n",
              " (23, 'физике'): 1.2596612915043794,\n",
              " (24, 'был'): 0.6247880819848394,\n",
              " (24, 'ваш'): 0.7091561933413503,\n",
              " (24, 'как'): 0.18872423493400953,\n",
              " (24, 'какой'): 0.5247197629301874,\n",
              " (24, 'опыт,'): 1.1849579093801548,\n",
              " (24, 'первый'): 0.78711662361995,\n",
              " (24, 'сексуальный'): 1.209596375144575,\n",
              " (25, 'был'): 0.7289194289823127,\n",
              " (25, 'ваш'): 0.8273488922315753,\n",
              " (25, 'какой'): 0.6121730567518853,\n",
              " (25, 'опыт'): 1.0562572233013892,\n",
              " (25, 'первый'): 0.9183027275566085,\n",
              " (25, 'сексуальный'): 1.4111957710020042,\n",
              " (26, 'в'): 0.11446295973136639,\n",
              " (26, 'вашего'): 0.2888071820885409,\n",
              " (26, 'визы'): 0.333877521599075,\n",
              " (26, 'до'): 0.21194853863337118,\n",
              " (26, 'законодательством'): 0.4245587811827715,\n",
              " (26, 'законы'): 0.32418970723998575,\n",
              " (26, 'зеленой'): 0.37680759472820463,\n",
              " (26, 'изменении'): 0.4153211338367139,\n",
              " (26, 'иммиграционным'): 0.4720044199179131,\n",
              " (26, 'как'): 0.060048620206275764,\n",
              " (26, 'каковы'): 0.12610429563024028,\n",
              " (26, 'канаде'): 0.30642098739007084,\n",
              " (26, 'карты'): 0.28737617580352487,\n",
              " (26, 'нас,'): 0.3197679614386506,\n",
              " (26, 'об'): 0.2509209967647595,\n",
              " (26, 'они'): 0.18895128898759264,\n",
              " (26, 'от'): 0.1649494209854829,\n",
              " (26, 'с'): 0.11443728581199693,\n",
              " (26, 'сравниваются'): 0.26688550153711843,\n",
              " (26, 'статуса'): 0.39337332603109637,\n",
              " (26, 'студенческой'): 0.39884815117090855,\n",
              " (27, 'в'): 0.11446295973136639,\n",
              " (27, 'вашего'): 0.2888071820885409,\n",
              " (27, 'визы'): 0.333877521599075,\n",
              " (27, 'до'): 0.21194853863337118,\n",
              " (27, 'законами'): 0.4208712564185729,\n",
              " (27, 'законы'): 0.32418970723998575,\n",
              " (27, 'зеленой'): 0.37680759472820463,\n",
              " (27, 'изменении'): 0.4153211338367139,\n",
              " (27, 'иммиграционными'): 0.47992957387903934,\n",
              " (27, 'как'): 0.060048620206275764,\n",
              " (27, 'каковы'): 0.12610429563024028,\n",
              " (27, 'карты'): 0.28737617580352487,\n",
              " (27, 'нас,'): 0.3197679614386506,\n",
              " (27, 'об'): 0.2509209967647595,\n",
              " (27, 'они'): 0.18895128898759264,\n",
              " (27, 'от'): 0.1649494209854829,\n",
              " (27, 'с'): 0.11443728581199693,\n",
              " (27, 'сравниваются'): 0.26688550153711843,\n",
              " (27, 'статуса'): 0.39337332603109637,\n",
              " (27, 'студенческой'): 0.39884815117090855,\n",
              " (27, 'японии'): 0.32702019418194506,\n",
              " (28, 'f1'): 0.7075821062254787,\n",
              " (28, 'бы'): 0.32331742205478686,\n",
              " (28, 'визе'): 0.7051091255466356,\n",
              " (28, 'для'): 0.18321405488079767,\n",
              " (28, 'иностранных'): 0.5963056000434229,\n",
              " (28, 'козыря'): 0.5411592439479264,\n",
              " (28, 'нынешних'): 0.8397177115371772,\n",
              " (28, 'означало'): 0.7737904124604982,\n",
              " (28, 'по'): 0.30176908438003275,\n",
              " (28, 'президентство'): 0.6542000353530546,\n",
              " (28, 'студентов-магистров'): 0.9337564825219931,\n",
              " (28, 'что'): 0.13782322603407418,\n",
              " (29, 'в'): 0.15738656963062878,\n",
              " (29, 'время'): 0.27260722427821155,\n",
              " (29, 'или'): 0.1853607730137221,\n",
              " (29, 'как'): 0.08256685278362917,\n",
              " (29, 'козыря'): 0.4058694329609448,\n",
              " (29, 'на'): 0.13727136768187362,\n",
              " (29, 'нас'): 0.6625574180685164,\n",
              " (29, 'настоящее'): 0.40114649439656086,\n",
              " (29, 'планирует'): 0.5299380677286893,\n",
              " (29, 'повлияет'): 0.40541118243555146,\n",
              " (29, 'президентство'): 0.49065002651479095,\n",
              " (29, 'у'): 0.22911306151042354,\n",
              " (29, 'учеников'): 0.5413331650283115,\n",
              " (29, 'учиться'): 0.3684944004807385,\n",
              " (30, 'манипуляция'): 3.7667959900227475,\n",
              " (30, 'означает'): 1.7582545237711855,\n",
              " (30, 'что'): 0.5512929041362967,\n",
              " (31, 'манипуляция'): 3.7667959900227475,\n",
              " (31, 'означает'): 1.7582545237711855,\n",
              " (31, 'что'): 0.5512929041362967,\n",
              " (32, 'девушки'): 0.7050294873224717,\n",
              " (32, 'дружить'): 1.0273626929302997,\n",
              " (32, 'которого'): 0.6952180947943329,\n",
              " (32, 'они'): 0.4618809286363375,\n",
              " (32, 'отвергают'): 1.119623615382903,\n",
              " (32, 'парнем,'): 0.9157423219280958,\n",
              " (32, 'почему'): 0.2562227261213237,\n",
              " (32, 'с'): 0.27973558754043687,\n",
              " (32, 'хотят'): 0.7596423720446598,\n",
              " (33, 'девушки'): 0.7931581732377807,\n",
              " (33, 'как'): 0.16513370556725834,\n",
              " (33, 'от'): 0.453610907710078,\n",
              " (33, 'отказа'): 1.0978364371821565,\n",
              " (33, 'после'): 0.5019201646685905,\n",
              " (33, 'ребята'): 0.9857431702070084,\n",
              " (33, 'себя'): 0.6043192920256106,\n",
              " (33, 'чувствуют'): 0.909156519692449,\n",
              " (34, 'google'): 0.3802625100276254,\n",
              " (34, 'quora'): 0.3344647544429409,\n",
              " (34, 'вопросы,'): 0.5252883982080518,\n",
              " (34, 'которые'): 0.26755258877625554,\n",
              " (34, 'легко'): 0.4480263781335754,\n",
              " (34, 'много'): 0.39507854523713837,\n",
              " (34, 'на'): 0.3378987512169197,\n",
              " (34, 'ответить'): 0.5223559976065238,\n",
              " (34, 'пользователей'): 0.5453648424730755,\n",
              " (34, 'почему'): 0.17738496423783948,\n",
              " (34, 'публикуют'): 0.6749737942892299,\n",
              " (34, 'так'): 0.3312375453604554,\n",
              " (35, 'google'): 0.4119510525299275,\n",
              " (35, 'quora,'): 0.4900984405203961,\n",
              " (35, 'вопросы'): 0.4229527982993256,\n",
              " (35, 'задают'): 0.5027967725509648,\n",
              " (35, 'которые'): 0.2898486378409435,\n",
              " (35, 'легко'): 0.4853619096447066,\n",
              " (35, 'люди'): 0.3295691229221664,\n",
              " (35, 'можно'): 0.3596856133236417,\n",
              " (35, 'на'): 0.18302849024249815,\n",
              " (35, 'о'): 0.27918944533073287,\n",
              " (35, 'ответить'): 0.5658856640737342,\n",
              " (35, 'почему'): 0.19216704459099276,\n",
              " (36, 'banglore'): 1.2017486270622517,\n",
              " (36, 'в'): 0.15738656963062878,\n",
              " (36, 'который'): 0.42309803321644823,\n",
              " (36, 'лучшим'): 0.4950170304908639,\n",
              " (36, 'маркетинга'): 0.8329648896275976,\n",
              " (36, 'учреждением'): 1.298012154774261,\n",
              " (36, 'цифрового'): 0.8563378358650683,\n",
              " (36, 'является'): 0.3684232116717099,\n",
              " (37, 'в'): 0.15738656963062878,\n",
              " (37, 'институтом'): 0.874878654807727,\n",
              " (37, 'который'): 0.42309803321644823,\n",
              " (37, 'лучшим'): 0.4950170304908639,\n",
              " (37, 'маркетинга'): 0.8329648896275976,\n",
              " (37, 'пуне'): 0.8818442450374895,\n",
              " (37, 'цифрового'): 0.8563378358650683,\n",
              " (37, 'является'): 0.3684232116717099,\n",
              " (38, 'белыми'): 2.1762833157778445,\n",
              " (38, 'выглядят'): 1.8712189662552352,\n",
              " (38, 'почему'): 0.5765011337729783,\n",
              " (38, 'ракеты'): 2.2017956293663867,\n",
              " (39, 'белый'): 0.951126454469465,\n",
              " (39, 'в'): 0.15738656963062878,\n",
              " (39, 'и'): 0.2367104293963892,\n",
              " (39, 'окрашены'): 1.298012154774261,\n",
              " (39, 'почему'): 0.28825056688648915,\n",
              " (39, 'ракеты'): 1.1008978146831934,\n",
              " (39, 'ускорители'): 1.263308187699476,\n",
              " (39, 'цвет'): 0.8497948178749581,\n",
              " (40, 'завидуть'): 2.8514371214315175,\n",
              " (40, 'заставляет'): 1.6594731793652207,\n",
              " (40, 'кого-то'): 1.4209951437242607,\n",
              " (40, 'что'): 0.41346967810222257,\n",
              " (41, 'кого-то'): 0.7104975718621304,\n",
              " (41, 'могу'): 0.2814576319125856,\n",
              " (41, 'не'): 0.35170674826708925,\n",
              " (41, 'ревновать'): 1.1557830295465872,\n",
              " (41, 'сделать,'): 0.6646824692478184,\n",
              " (41, 'что'): 0.20673483905111129,\n",
              " (41, 'чтобы'): 0.40533672190658193,\n",
              " (41, 'я'): 0.20993693136691735,\n",
              " (42, 'quora'): 0.6211488296797473,\n",
              " (42, 'вопросы'): 0.725061939941701,\n",
              " (42, 'задавать'): 1.0434319737437636,\n",
              " (42, 'какие'): 0.40485169938652266,\n",
              " (42, 'на'): 0.31376312612999685,\n",
              " (42, 'не'): 0.401950569448102,\n",
              " (42, 'следует'): 0.8278652048765542,\n",
              " (43, 'quora'): 0.6211488296797473,\n",
              " (43, 'вопрос'): 0.7813408064859032,\n",
              " (43, 'должен'): 0.49066610460292315,\n",
              " (43, 'задать'): 1.0242904243318727,\n",
              " (43, 'какой'): 0.5247197629301874,\n",
              " (43, 'на'): 0.31376312612999685,\n",
              " (43, 'я'): 0.23992792156219125,\n",
              " (44, '30'): 1.3095320439445075,\n",
              " (44, 'hp'): 1.4772733923954848,\n",
              " (44, 'в'): 0.2518185114090061,\n",
              " (44, 'кв'): 2.047135446615163,\n",
              " (44, 'сколько'): 0.7646698995497094,\n",
              " (45, 'cc'): 0.9028262084558906,\n",
              " (45, 'horsepower'): 1.2909825882502344,\n",
              " (45, 'to'): 0.9070373569909033,\n",
              " (45, 'где'): 0.39096511405501133,\n",
              " (45, 'диаграмму'): 0.9340293186020974,\n",
              " (45, 'для'): 0.2198568658569572,\n",
              " (45, 'могу'): 0.2251661055300685,\n",
              " (45, 'найти'): 0.45644891980322966,\n",
              " (45, 'преобразования'): 0.8566020460648659,\n",
              " (45, 'я'): 0.16794954509353388,\n",
              " (46, 'каждый'): 0.4385273474450648,\n",
              " (46, 'когда'): 0.2658122630791864,\n",
              " (46, 'на'): 0.16894937560845985,\n",
              " (46, 'одинаковы'): 0.7206820429588484,\n",
              " (46, 'означает,'): 0.5144801669495175,\n",
              " (46, 'раз,'): 0.5301884579699893,\n",
              " (46, 'смотрю'): 0.6388196689626349,\n",
              " (46, 'цифры'): 0.6640892125758684,\n",
              " (46, 'часы,'): 0.7252758302435887,\n",
              " (46, 'что'): 0.25444287883213695,\n",
              " (46, 'это'): 0.2375058077482183,\n",
              " (46, 'я'): 0.12919195776425685,\n",
              " (47, 'в'): 0.17987036529214717,\n",
              " (47, 'день'): 0.691698994170563,\n",
              " (47, 'перекрывают'): 1.6462187887689217,\n",
              " (47, 'раз'): 0.8590187929828044,\n",
              " (47, 'руки'): 1.1388230401772745,\n",
              " (47, 'сколько'): 0.5461927853926495,\n",
              " (47, 'часы'): 1.0884338260535855,\n",
              " (48, 'в'): 0.11446295973136639,\n",
              " (48, 'внедрению'): 0.6983086039471339,\n",
              " (48, 'его'): 0.3934517434327622,\n",
              " (48, 'каковы'): 0.25220859126048056,\n",
              " (48, 'лекарства'): 0.7893629215667423,\n",
              " (48, 'на'): 0.1996674439009071,\n",
              " (48, 'некоторые'): 0.34949051657472446,\n",
              " (48, 'по'): 0.3292026375054903,\n",
              " (48, 'процессе'): 0.66775504319815,\n",
              " (48, 'собеседования'): 0.611425181051351,\n",
              " (48, 'советы'): 0.5258309653871713,\n",
              " (49, 'в'): 0.07869328481531439,\n",
              " (49, 'дому'): 0.534569815988297,\n",
              " (49, 'каковы'): 0.1733934064915804,\n",
              " (49, 'медицине'): 0.5846548638133081,\n",
              " (49, 'медицинской'): 0.5229081937645212,\n",
              " (49, 'на'): 0.13727136768187362,\n",
              " (49, 'некоторые'): 0.24027473014512307,\n",
              " (49, 'о'): 0.20939208399804968,\n",
              " (49, 'процесс'): 0.383403736972872,\n",
              " (49, 'сделать'): 0.26647650065766076,\n",
              " (49, 'собеседования'): 0.4203548119728038,\n",
              " (49, 'советы'): 0.36150878870368025,\n",
              " (49, 'том,'): 0.3331820900532423,\n",
              " (49, 'через'): 0.30767569021049446,\n",
              " (49, 'чтобы'): 0.20266836095329097,\n",
              " (49, 'это'): 0.19297346879542737,\n",
              " (50, 'веб-приложение'): 3.210893716503389,\n",
              " (50, 'такое'): 1.102267245594243,\n",
              " (50, 'что'): 0.5512929041362967,\n",
              " (51, 'веб-приложений'): 3.053440602190657,\n",
              " (51, 'какова'): 1.2942892098391454,\n",
              " (51, 'структура'): 2.4202838814470455,\n",
              " (52, 'большое'): 0.9441549509787913,\n",
              " (52, 'делает'): 0.5823517790114855,\n",
              " (52, 'для'): 0.2748210823211965,\n",
              " (52, 'значение'): 0.7299408342918657,\n",
              " (52, 'ли'): 0.3666301751130948,\n",
              " (52, 'общество'): 0.9793315084085645,\n",
              " (52, 'слишком'): 0.7445177089539758,\n",
              " (52, 'спорта'): 1.0239158764009062,\n",
              " (53, 'в'): 0.17987036529214717,\n",
              " (53, 'вклад'): 1.0920783385760724,\n",
              " (53, 'вносит'): 1.4573965259143047,\n",
              " (53, 'как'): 0.18872423493400953,\n",
              " (53, 'общество'): 1.119236009609788,\n",
              " (53, 'свой'): 0.6330682107013819,\n",
              " (53, 'спорт'): 1.279797451988702,\n",
              " (54, 'в'): 0.20984875950750503,\n",
              " (54, 'деньги'): 0.7479704796816424,\n",
              " (54, 'заработать'): 0.9758960373949004,\n",
              " (54, 'интернете'): 0.8946462609673219,\n",
              " (54, 'лучший'): 0.6802097510629228,\n",
              " (54, 'способ'): 0.7228505635489376,\n",
              " (55, 'в'): 0.20984875950750503,\n",
              " (55, 'деньги'): 0.7479704796816424,\n",
              " (55, 'интернете'): 0.8946462609673219,\n",
              " (55, 'лучший'): 0.6802097510629228,\n",
              " (55, 'попросить'): 1.3105300251471756,\n",
              " (55, 'способ'): 0.7228505635489376,\n",
              " (56, 'готовиться'): 0.9862103889858014,\n",
              " (56, 'должен'): 0.49066610460292315,\n",
              " (56, 'заключительному'): 1.4481767371803658,\n",
              " (56, 'закону'): 1.2882865120559595,\n",
              " (56, 'к'): 0.5231974889392369,\n",
              " (56, 'как'): 0.18872423493400953,\n",
              " (56, 'я'): 0.23992792156219125,\n",
              " (57, 'готовится'): 0.9577621372327139,\n",
              " (57, 'заключительному'): 1.0137237160262562,\n",
              " (57, 'знать,'): 0.640778574288358,\n",
              " (57, 'к'): 0.3662382422574659,\n",
              " (57, 'как'): 0.13210696445380668,\n",
              " (57, 'он'): 0.42557444390239846,\n",
              " (57, 'полностью'): 0.6658885854832762,\n",
              " (57, 'следует'): 0.579505643413588,\n",
              " (57, 'что'): 0.16538787124088905,\n",
              " (57, 'экзамену'): 0.6519585215436994,\n",
              " (58, 'бы'): 0.6466348441095737,\n",
              " (58, 'вы'): 0.4232467113055728,\n",
              " (58, 'лучше'): 0.7320221360074092,\n",
              " (58, 'сделать'): 0.710604001753762,\n",
              " (58, 'хотели'): 1.1738929709281742,\n",
              " (58, 'что'): 0.27564645206814836,\n",
              " (59, 'вы'): 0.4232467113055728,\n",
              " (59, 'делаете,'): 1.254604505328934,\n",
              " (59, 'зная'): 1.3808088448696787,\n",
              " (59, 'лучше'): 0.7320221360074092,\n",
              " (59, 'хотя'): 1.106472908440674,\n",
              " (59, 'что'): 0.27564645206814836,\n",
              " (60, 'в'): 0.10492437975375252,\n",
              " (60, 'время'): 0.36347629903761536,\n",
              " (60, 'заботы'): 0.8620730437534005,\n",
              " (60, 'задыхается'): 0.926505534439524,\n",
              " (60, 'какие'): 0.2361634913088049,\n",
              " (60, 'кого-то'): 0.4736650479080869,\n",
              " (60, 'который'): 0.2820653554776321,\n",
              " (60, 'носом,'): 0.9416989975056869,\n",
              " (60, 'ночное'): 0.7506544344106416,\n",
              " (60, 'особые'): 0.6994572425184057,\n",
              " (60, 'с'): 0.20980169065532767,\n",
              " (60, 'у'): 0.30548408201389804,\n",
              " (61, 'в'): 0.12590925570450304,\n",
              " (61, 'время'): 0.4361715588451385,\n",
              " (61, 'держать'): 0.7606520974443267,\n",
              " (61, 'душного'): 1.2216678701942398,\n",
              " (61, 'как'): 0.13210696445380668,\n",
              " (61, 'могу'): 0.2251661055300685,\n",
              " (61, 'нос'): 0.865421317268412,\n",
              " (61, 'ночное'): 0.90078532129277,\n",
              " (61, 'от'): 0.36288872616806245,\n",
              " (61, 'я'): 0.16794954509353388,\n",
              " (62, 'бы'): 0.32331742205478686,\n",
              " (62, 'была'): 0.43906180277728574,\n",
              " (62, 'вам'): 0.43333908483734823,\n",
              " (62, 'вероятна,'): 1.0420300645328482,\n",
              " (62, 'дать'): 0.5250397199445802,\n",
              " (62, 'злодея'): 0.875994217475331,\n",
              " (62, 'игра'): 0.5989896753242244,\n",
              " (62, 'какая'): 0.34221265833344156,\n",
              " (62, 'милость'): 1.0180565584951997,\n",
              " (62, 'наиболее'): 0.464380291744317,\n",
              " (62, 'престола'): 0.8839367324590248,\n",
              " (62, 'чтобы'): 0.2702244812710546,\n",
              " (63, 'больше'): 0.4467132188853258,\n",
              " (63, 'быть'): 0.35552945603550984,\n",
              " (63, 'вам'): 0.47273354709528903,\n",
              " (63, 'власти'): 0.7218193257205766,\n",
              " (63, 'во'): 0.4216267316049031,\n",
              " (63, 'всего'): 0.4324330850637539,\n",
              " (63, 'злодея'): 0.9556300554276339,\n",
              " (63, 'игра'): 0.6534432821718813,\n",
              " (63, 'какая'): 0.3733229000001181,\n",
              " (63, 'понравится'): 0.9187695910541644,\n",
              " (63, 'престола'): 0.9642946172280271,\n",
              " (64, 'в'): 0.059956788430715724,\n",
              " (64, 'взгляды'): 0.3285027956237229,\n",
              " (64, 'граждане'): 0.41822340464082153,\n",
              " (64, 'д.'): 0.35695000834857304,\n",
              " (64, 'занимает'): 0.37536482316451797,\n",
              " (64, 'занятости'): 0.44898027586507866,\n",
              " (64, 'и'): 0.09017540167481493,\n",
              " (64, 'их'): 0.22443397501377488,\n",
              " (64, 'место'): 0.2962012673011132,\n",
              " (64, 'некоторые'): 0.1830664610629509,\n",
              " (64, 'по-прежнему'): 0.3260573400513349,\n",
              " (64, 'политические'): 0.39223795466859224,\n",
              " (64, 'потому'): 0.3046705025170293,\n",
              " (64, 'правительство'): 0.2971584663164031,\n",
              " (64, 'соединенных'): 0.6182343758634411,\n",
              " (64, 'т.'): 0.2957297877305079,\n",
              " (64, 'черное'): 0.45960615926099335,\n",
              " (64, 'что'): 0.0787561291623281,\n",
              " (64, 'штатов'): 0.34243594263582816,\n",
              " (64, 'штатов,'): 0.43969167669501275,\n",
              " (65, 'газа'): 1.3705126182536382,\n",
              " (65, 'как'): 0.22017827408967777,\n",
              " (65, 'молекул'): 1.6565685694887737,\n",
              " (65, 'определяется'): 1.1902508144514283,\n",
              " (65, 'скорость'): 1.0823184878958527,\n",
              " (65, 'средняя'): 1.1467238780344733,\n",
              " (66, 'в'): 0.20984875950750503,\n",
              " (66, 'веб-сайт'): 1.1833638361911107,\n",
              " (66, 'испании'): 1.3935376746671075,\n",
              " (66, 'какой'): 0.6121730567518853,\n",
              " (66, 'лучший'): 0.6802097510629228,\n",
              " (66, 'путешествия'): 1.359372615232663,\n",
              " (67, 'веб-сайт'): 1.7750457542866662,\n",
              " (67, 'какой'): 0.918259585127828,\n",
              " (67, 'лучший'): 1.0203146265943843,\n",
              " (67, 'путешествия'): 2.039058922848995,\n",
              " (68, 'думают,'): 0.7909264252696707,\n",
              " (68, 'люди'): 0.4394254972295552,\n",
              " (68, 'некоторые'): 0.4271550758135521,\n",
              " (68, 'обама'): 0.8001173184816781,\n",
              " (68, 'оружие'): 0.8596116673476657,\n",
              " (68, 'отнять'): 1.2182128592718922,\n",
              " (68, 'попытается'): 1.0661822086477575,\n",
              " (68, 'почему'): 0.2562227261213237,\n",
              " (68, 'что'): 0.18376430137876557,\n",
              " (69, 'была'): 0.37633868809481635,\n",
              " (69, 'есть'): 0.2425330484633091,\n",
              " (69, 'за'): 0.27861592725555395,\n",
              " (69, 'забрать'): 0.6358923355192766,\n",
              " (69, 'инициатива'): 0.7692685513575765,\n",
              " (69, 'контролю'): 0.7782087758542913,\n",
              " (69, 'которое'): 0.41272338371681655,\n",
              " (69, 'людей'): 0.34601760394430364,\n",
              " (69, 'оружие,'): 0.6427002055052997,\n",
              " (69, 'оружием,'): 0.6803882585111835,\n",
              " (69, 'по'): 0.2586592151828852,\n",
              " (69, 'у'): 0.26184349886905545,\n",
              " (69, 'уже'): 0.4676284127829913,\n",
              " (69, 'чтобы'): 0.23162098394661823,\n",
              " (70, '19'): 0.36949660219194896,\n",
              " (70, 'ближайшие'): 0.37859447060922086,\n",
              " (70, 'в'): 0.059956788430715724,\n",
              " (70, 'должен'): 0.16355536820097438,\n",
              " (70, 'или'): 0.14122725562950256,\n",
              " (70, 'как'): 0.0629080783113365,\n",
              " (70, 'лет'): 0.24963969912816322,\n",
              " (70, 'лет,'): 0.29408709188827015,\n",
              " (70, 'мне'): 0.17980384341808922,\n",
              " (70, 'могу'): 0.10722195501431832,\n",
              " (70, 'навыки'): 0.2810152714485744,\n",
              " (70, 'несколько'): 0.2988499890858569,\n",
              " (70, 'предпринимателем'): 0.40047696248438464,\n",
              " (70, 'свои'): 0.24296742096600718,\n",
              " (70, 'сделать,'): 0.25321236923726415,\n",
              " (70, 'стать'): 0.22167461761929688,\n",
              " (70, 'улучшить'): 0.23322893539729914,\n",
              " (70, 'что'): 0.0787561291623281,\n",
              " (70, 'чтобы'): 0.1544139892977455,\n",
              " (70, 'я'): 0.15995194770812748,\n",
              " (71, '10'): 0.4442002045531154,\n",
              " (71, '19-летний'): 0.8422054584663173,\n",
              " (71, 'ближайшие'): 0.6625403235661365,\n",
              " (71, 'в'): 0.10492437975375252,\n",
              " (71, 'как'): 0.11008913704483889,\n",
              " (71, 'лет'): 0.4368694734742856,\n",
              " (71, 'миллиардером'): 0.7205955004550857,\n",
              " (71, 'могу'): 0.18763842127505706,\n",
              " (71, 'парень,'): 0.6190989132633626,\n",
              " (71, 'стать'): 0.3879305808337695,\n",
              " (71, 'я'): 0.2799159084892231,\n",
              " (72, 'быть'): 0.20583284296792673,\n",
              " (72, 'выбрал'): 0.4515311864324216,\n",
              " (72, 'ей'): 0.3822428294386598,\n",
              " (72, 'заставляет'): 0.3493627746032043,\n",
              " (72, 'когда'): 0.18187154842260117,\n",
              " (72, 'меня,'): 0.32392837906130595,\n",
              " (72, 'мной,'): 0.38720348934635396,\n",
              " (72, 'ответить'): 0.35740147204656897,\n",
              " (72, 'парня,'): 0.4086969797840183,\n",
              " (72, 'подруга'): 0.3802393094426685,\n",
              " (72, 'почему'): 0.12136865974167964,\n",
              " (72, 'своего'): 0.29583674673584665,\n",
              " (72, 'со'): 0.2786074905748399,\n",
              " (72, 'спрашивает'): 0.4562367963121893,\n",
              " (72, 'тебя'): 0.36572739699363527,\n",
              " (72, 'ты'): 0.29401711505286765,\n",
              " (72, 'хотеть'): 0.4680759400921029,\n",
              " (72, 'что'): 0.17409249604304108,\n",
              " (73, 'вернуться'): 0.2165040842338636,\n",
              " (73, 'должны'): 0.14289268077798387,\n",
              " (73, 'ее,'): 0.22576485964721774,\n",
              " (73, 'ей'): 0.4401584096566386,\n",
              " (73, 'если'): 0.08945359160305126,\n",
              " (73, 'и'): 0.11476869304067355,\n",
              " (73, 'ко'): 0.23309625512187157,\n",
              " (73, 'ли'): 0.08888004245165936,\n",
              " (73, 'мне,'): 0.20044120851705144,\n",
              " (73, 'моя'): 0.16079324840279502,\n",
              " (73, 'мы'): 0.11974372945469736,\n",
              " (73, 'она'): 0.29716919164077427,\n",
              " (73, 'отключился,'): 0.3634404591099451,\n",
              " (73, 'подруга'): 0.2189256630124455,\n",
              " (73, 'пожелал'): 0.3491979248903773,\n",
              " (73, 'позвоню'): 0.3171963287010042,\n",
              " (73, 'потому'): 0.1938812288744732,\n",
              " (73, 'прекратить,'): 0.37020238490734536,\n",
              " (73, 'своими'): 0.22328976779830054,\n",
              " (73, 'сказала,'): 0.262681791816109,\n",
              " (73, 'смущена'): 0.35791556344952224,\n",
              " (73, 'спрошу'): 0.332239870710516,\n",
              " (73, 'хорошо'): 0.1687081930346578,\n",
              " (73, 'хочет'): 0.19045748074047858,\n",
              " (73, 'что'): 0.10023507347932668,\n",
              " (73, 'чувствами'): 0.2942773565136867,\n",
              " (73, 'это'): 0.09356289396141934,\n",
              " (73, 'я'): 0.10178760308699024,\n",
              " (74, 'upsc'): 1.4311334401042153,\n",
              " (74, 'готовимся'): 2.2410155580527835,\n",
              " (74, 'к'): 0.7324764845149317,\n",
              " (74, 'как'): 0.26421392890761336,\n",
              " (74, 'мы'): 0.7903086144010025,\n",
              " (75, 'государственной'): 1.3286268802068204,\n",
              " (75, 'готовлюсь'): 1.1808836316916689,\n",
              " (75, 'к'): 0.6103970704291097,\n",
              " (75, 'как'): 0.22017827408967777,\n",
              " (75, 'службе'): 1.4265913243571735,\n",
              " (75, 'я'): 0.2799159084892231,\n",
              " (76, 'aoa'): 1.1736205347729403,\n",
              " (76, 'f-14'): 1.1106071547220362,\n",
              " (76, 'и'): 0.17215303956101033,\n",
              " (76, 'какова'): 0.352987966319767,\n",
              " (76, 'крыльями,'): 1.136760070399471,\n",
              " (76, 'назад'): 0.6298556064770785,\n",
              " (76, 'отброшенными'): 1.1736205347729403,\n",
              " (76, 'полностью'): 0.6053532595302511,\n",
              " (76, 'с'): 0.22887457162399386,\n",
              " (76, 'сваливания'): 1.1106071547220362,\n",
              " (76, 'скорость'): 0.5903555388522833,\n",
              " (77, '-'): 0.274065013316988,\n",
              " (77, '14'): 0.5260463170016272,\n",
              " (77, 'f'): 0.5469680324611224,\n",
              " (77, 'воздушное'): 0.7613238631354177,\n",
              " (77, 'изменяемой'): 0.8931686267424414,\n",
              " (77, 'использовать'): 0.335576534651939,\n",
              " (77, 'крылья'): 0.7286982629571523,\n",
              " (77, 'на'): 0.15688156306499842,\n",
              " (77, 'например,'): 0.45943461318212736,\n",
              " (77, 'почему'): 0.16471460964942236,\n",
              " (77, 'прекратило'): 0.7613238631354177,\n",
              " (77, 'разверткой,'): 0.8931686267424414,\n",
              " (77, 'с'): 0.17983002056170944,\n",
              " (77, 'судно'): 0.7692685513575765,\n",
              " (78, 'почему'): 0.768668178363971,\n",
              " (78, 'приседают'): 3.8411771737941507,\n",
              " (78, 'славяне'): 3.9370711979447446,\n",
              " (79, 'более'): 0.7872501101645812,\n",
              " (79, 'делают'): 0.8798536552872452,\n",
              " (79, 'мои'): 0.8515422046386156,\n",
              " (79, 'ноги'): 1.3644787768096447,\n",
              " (79, 'приседания'): 1.751988434950662,\n",
              " (79, 'толстыми'): 1.900958080954345,\n",
              " (80, 'знакомая'): 1.3574087446602663,\n",
              " (80, 'когда'): 0.3839510466699358,\n",
              " (80, 'могу'): 0.2501845617000761,\n",
              " (80, 'моя'): 0.5895752441435818,\n",
              " (80, 'ожидать,'): 0.9461529697588782,\n",
              " (80, 'подтверждения'): 1.0393864245569922,\n",
              " (80, 'почта'): 1.003140231617656,\n",
              " (80, 'что'): 0.18376430137876557,\n",
              " (80, 'я'): 0.1866106056594821,\n",
              " (81, 'знакомой'): 1.7133621643754555,\n",
              " (81, 'когда'): 0.4936513457184889,\n",
              " (81, 'могу'): 0.32166586504295497,\n",
              " (81, 'ожидать'): 1.0560532837196621,\n",
              " (81, 'подтверждения'): 1.3363539744304185,\n",
              " (81, 'почты'): 0.8995875757683256,\n",
              " (81, 'я'): 0.23992792156219125,\n",
              " (82, '000'): 0.863941588403145,\n",
              " (82, '50'): 0.952792862475939,\n",
              " (82, 'ежемесячно'): 1.356014171269854,\n",
              " (82, 'зарабатывать'): 0.7864632127711527,\n",
              " (82, 'ли'): 0.4190059144149655,\n",
              " (82, 'могу'): 0.32166586504295497,\n",
              " (82, 'я'): 0.23992792156219125,\n",
              " (83, '000'): 0.755948889852752,\n",
              " (83, '30'): 0.8184575274653171,\n",
              " (83, 'делать'): 0.5812959608962418,\n",
              " (83, 'ежемесячных'): 1.2559531251966094,\n",
              " (83, 'ли'): 0.3666301751130948,\n",
              " (83, 'могу'): 0.2814576319125856,\n",
              " (83, 'торгов'): 1.3618653577450097,\n",
              " (83, 'я'): 0.20993693136691735,\n",
              " (84, 'в'): 0.09685327361884848,\n",
              " (84, 'долгосрочной'): 0.6646252640617216,\n",
              " (84, 'и'): 0.14566795655162412,\n",
              " (84, 'которого'): 0.48130483485761516,\n",
              " (84, 'не'): 0.21643492201051648,\n",
              " (84, 'он'): 0.3273649568479988,\n",
              " (84, 'перспективе'): 0.6702018411415797,\n",
              " (84, 'повстанцем,'): 0.9397445155340306,\n",
              " (84, 'ребенком'): 0.6260877890797445,\n",
              " (84, 'стоит'): 0.41629131218611537,\n",
              " (84, 'хорошим'): 0.42176763348747565,\n",
              " (84, 'является'): 0.4534439528267199,\n",
              " (85, 'для'): 0.549642164642393,\n",
              " (85, 'ребенка'): 1.6995896357499163,\n",
              " (85, 'скучает'): 2.46632586119473,\n",
              " (85, 'хорошо'): 1.3918425925359268,\n",
              " (86, 'rexnord,'): 0.9930635294232572,\n",
              " (86, 'выпускников'): 0.5096685939562725,\n",
              " (86, 'делают'): 0.40608630244026706,\n",
              " (86, 'из'): 0.2567617407872958,\n",
              " (86, 'ищут'): 0.5245012308018958,\n",
              " (86, 'какие'): 0.21799706890043533,\n",
              " (86, 'майоры'): 0.5135689253722742,\n",
              " (86, 'набирать'): 0.6260877890797445,\n",
              " (86, 'новых'): 0.4706618784443199,\n",
              " (86, 'того,'): 0.35931975582716325,\n",
              " (86, 'университеты'): 0.4817028853030011,\n",
              " (86, 'что'): 0.12722143941606848,\n",
              " (86, 'чтобы'): 0.24943798271174275,\n",
              " (87, 'bg-продукты,'): 0.9602942934485377,\n",
              " (87, 'выпускников'): 0.5521409767859617,\n",
              " (87, 'делают'): 0.8798536552872452,\n",
              " (87, 'из'): 0.27815855251957045,\n",
              " (87, 'какие'): 0.2361634913088049,\n",
              " (87, 'майоры'): 0.5563663358199636,\n",
              " (87, 'набирают'): 0.6006426220789032,\n",
              " (87, 'новых'): 0.5098837016480131,\n",
              " (87, 'того,'): 0.3892630688127601,\n",
              " (87, 'университеты'): 0.5218447924115844,\n",
              " (87, 'что'): 0.13782322603407418,\n",
              " (88, 'instagram'): 0.6737327956832017,\n",
              " (88, 'быстрый'): 0.8655788685509946,\n",
              " (88, 'каков'): 0.5591490248680654,\n",
              " (88, 'последователей'): 0.9045628269163564,\n",
              " (88, 'самый'): 0.6577848018921522,\n",
              " (88, 'способ'): 0.5421379226617032,\n",
              " (88, 'увеличить'): 0.6887652544404881,\n",
              " (88, 'число'): 0.86510805820156,\n",
              " (89, 'instagram'): 0.7699803379236589,\n",
              " (89, 'как'): 0.18872423493400953,\n",
              " (89, 'количество'): 0.8885149880099865,\n",
              " (89, 'можем'): 0.7017135208391976,\n",
              " (89, 'мы'): 0.5645061531435732,\n",
              " (89, 'последователей'): 1.0337860879044072,\n",
              " (89, 'увеличить'): 0.7871602907891292,\n",
              " (90, 'в'): 0.11446295973136639,\n",
              " (90, 'вейдер'): 0.8360230741634578,\n",
              " (90, 'войн'): 0.7314677273966137,\n",
              " (90, 'дарт'): 0.8360230741634578,\n",
              " (90, 'дартом'): 0.9738728459241932,\n",
              " (90, 'звездных'): 0.7020400069692353,\n",
              " (90, 'как'): 0.12009724041255153,\n",
              " (90, 'легендах'): 1.0737466903485666,\n",
              " (90, 'молом'): 1.1736205347729403,\n",
              " (90, 'с'): 0.22887457162399386,\n",
              " (90, 'сражался'): 0.9187695910541644,\n",
              " (91, 'quora'): 0.5435052259697789,\n",
              " (91, 'для'): 0.2748210823211965,\n",
              " (91, 'есть'): 0.4244328348107909,\n",
              " (91, 'лимит'): 1.1222500312222523,\n",
              " (91, 'описания'): 1.093867849892834,\n",
              " (91, 'профиля'): 0.9116318481044715,\n",
              " (91, 'символов'): 1.077420805169244,\n",
              " (91, 'у'): 0.4582261230208471,\n",
              " (92, 'будь'): 0.4699140221835662,\n",
              " (92, 'в'): 0.06295462785225152,\n",
              " (92, 'виду'): 0.3971745423651334,\n",
              " (92, 'женщина'): 0.33764234484583944,\n",
              " (92, 'или'): 0.1482886184109777,\n",
              " (92, 'имею'): 0.3589052019578451,\n",
              " (92, 'каковы'): 0.1387147251932643,\n",
              " (92, 'между'): 0.18483197820381211,\n",
              " (92, 'мужчина'): 0.3577833600260538,\n",
              " (92, 'парой,'): 0.625218038719709,\n",
              " (92, 'после'): 0.2007680658674362,\n",
              " (92, 'происходит'): 0.28567569568288825,\n",
              " (92, 'разрыва'): 0.45193124357972264,\n",
              " (92, 'разрыва,'): 0.5602538895131959,\n",
              " (92, 'стадии'): 0.434884914231193,\n",
              " (92, 'то'): 0.2615865463565178,\n",
              " (92, 'то,'): 0.2498243882083645,\n",
              " (92, 'что'): 0.08269393562044453,\n",
              " (92, 'эмоционального'): 0.500972706230309,\n",
              " (92, 'я'): 0.08397477254676694,\n",
              " (93, 'больше'): 0.5459828230820648,\n",
              " (93, 'всего'): 0.5285293261890325,\n",
              " (93, 'девочку'): 1.0218059795331151,\n",
              " (93, 'или'): 0.329530263135506,\n",
              " (93, 'который'): 0.37608714063684284,\n",
              " (93, 'мальчика'): 0.8861502165968501,\n",
              " (93, 'от'): 0.40320969574229154,\n",
              " (93, 'пострадал'): 1.1966399687784526,\n",
              " (93, 'распада'): 0.9489308922261469,\n",
              " (94, 'из'): 0.3708780700260939,\n",
              " (94, 'изготовить'): 1.0909759365715586,\n",
              " (94, 'какие'): 0.3148846550784065,\n",
              " (94, 'которые'): 0.38646485045459134,\n",
              " (94, 'можно'): 0.47958081776485556,\n",
              " (94, 'нефти'): 0.9881603179722172,\n",
              " (94, 'примеры'): 0.5834847013817477,\n",
              " (94, 'продуктов,'): 0.9997558752304663,\n",
              " (94, 'сырой'): 1.0066309200880317,\n",
              " (95, 'из'): 0.6675805260469692,\n",
              " (95, 'какие'): 0.5667923791411318,\n",
              " (95, 'нефти'): 1.7786885723499912,\n",
              " (95, 'продукты'): 1.2918710920716334,\n",
              " (95, 'сырой'): 1.8119356561584572,\n",
              " (96, 'как'): 0.44035654817935554,\n",
              " (96, 'подружился'): 3.158612892672399,\n",
              " (96, 'я'): 0.5598318169784462,\n",
              " (97, 'как'): 0.6605348222690334,\n",
              " (97, 'подружиться'): 4.260784349038913,\n",
              " (98, 'b'): 0.6533169967551063,\n",
              " (98, 'rbi'): 0.8127905003222783,\n",
              " (98, 'для'): 0.24428540650773023,\n",
              " (98, 'подготовки'): 0.6778651751621515,\n",
              " (98, 'пригодным'): 1.1842815648773164,\n",
              " (98, 'профессиональным'): 0.9199958982137644,\n",
              " (98, 'пусковым'): 1.2673053873028965,\n",
              " (98, 'установкой,'): 1.3574087446602663,\n",
              " (98, 'является'): 0.3274872992637421,\n",
              " (99, 'b'): 0.6533169967551063,\n",
              " (99, 'grade'): 1.1043790463258492,\n",
              " (99, 'rbi'): 0.8127905003222783,\n",
              " (99, 'для'): 0.24428540650773023,\n",
              " (99, 'как'): 0.14678551605978518,\n",
              " (99, 'начинающих'): 0.7773692085404525,\n",
              " (99, 'онлайн-программа'): 1.3574087446602663,\n",
              " (99, 'по'): 0.402358779173377,\n",
              " (99, 'программе'): 0.8701702155480302,\n",
              " (100, 'blu'): 1.018643435478538,\n",
              " (100, 'dvd-игроке,'): 1.1736205347729403,\n",
              " (100, 'ray'): 0.9556300554276339,\n",
              " (100, 'будет'): 0.359735555945043,\n",
              " (100, 'да,'): 0.5511228667641034,\n",
              " (100, 'если'): 0.26836077480915377,\n",
              " (100, 'играть'): 0.5689321826284197,\n",
              " (100, 'как'): 0.12009724041255153,\n",
              " (100, 'на'): 0.1996674439009071,\n",
              " (100, 'обычном'): 0.880995459784922,\n",
              " (100, 'то'): 0.47561190246639595,\n",
              " (101, 'blu-ray'): 0.9711152764951662,\n",
              " (101, 'dvd'): 0.918413245526569,\n",
              " (101, 'dvd-плеере'): 1.250436077439418,\n",
              " (101, 'вы'): 0.2539480267833437,\n",
              " (101, 'играть'): 0.6258254008912617,\n",
              " (101, 'как'): 0.13210696445380668,\n",
              " (101, 'можете'): 0.4224917286681514,\n",
              " (101, 'на'): 0.4392683765819956,\n",
              " (101, 'обычном'): 0.9690950057634142,\n",
              " (102, 'всегда'): 1.4672129399334959,\n",
              " (102, 'грустная'): 2.6396126563347164,\n",
              " (102, 'и'): 0.4734208587927784,\n",
              " (102, 'она'): 1.225822915518194,\n",
              " (103, 'аэродинамически,'): 2.1516376470837235,\n",
              " (103, 'винт'): 1.900958080954345,\n",
              " (103, 'вращается'): 1.4276700767747763,\n",
              " (103, 'когда'): 0.5759265700049037,\n",
              " (103, 'происходит,'): 1.1148726187337674,\n",
              " (103, 'что'): 0.27564645206814836,\n",
              " (104, 'вы'): 0.2821644742037152,\n",
              " (104, 'ели'): 1.0054551301624164,\n",
              " (104, 'запоминающееся,'): 1.3574087446602663,\n",
              " (104, 'и'): 0.21040927057456815,\n",
              " (104, 'когда-либо'): 0.5151654759997619,\n",
              " (104, 'почему'): 0.2562227261213237,\n",
              " (104, 'самое'): 0.5825706313802509,\n",
              " (104, 'что'): 0.36752860275753113,\n",
              " (105, 'блюдо'): 1.0287964045787337,\n",
              " (105, 'вкусное'): 1.2450086433626575,\n",
              " (105, 'вы'): 0.2821644742037152,\n",
              " (105, 'ели'): 1.0054551301624164,\n",
              " (105, 'и'): 0.21040927057456815,\n",
              " (105, 'какое'): 0.5796191290995638,\n",
              " (105, 'когда-либо'): 0.5151654759997619,\n",
              " (105, 'почему'): 0.2562227261213237,\n",
              " (105, 'самое'): 0.5825706313802509,\n",
              " (106, 'gst'): 0.8157201531934718,\n",
              " (106, 'влияет'): 0.7209115127439806,\n",
              " (106, 'и'): 0.21040927057456815,\n",
              " (106, 'как'): 0.14678551605978518,\n",
              " (106, 'на'): 0.24403798698999754,\n",
              " (106, 'налоговых'): 1.062213532803082,\n",
              " (106, 'органов'): 1.051093148518973,\n",
              " (106, 'полиции'): 0.7435802527889281,\n",
              " (106, 'сотрудников'): 0.6986394081454793,\n",
              " (107, 'домашнее'): 1.1929570907165226,\n",
              " (107, 'задание'): 1.3323295634351762,\n",
              " (107, 'могу'): 0.32166586504295497,\n",
              " (107, 'не'): 0.401950569448102,\n",
              " (107, 'почему'): 0.3294292192988447,\n",
              " (107, 'сделать'): 0.6090891443603674,\n",
              " (107, 'я'): 0.23992792156219125,\n",
              " (108, 'rsi'): 2.178984572392016,\n",
              " (108, 'в'): 0.2518185114090061,\n",
              " (108, 'как'): 0.26421392890761336,\n",
              " (108, 'попасть'): 1.2164393295998983,\n",
              " (108, 'трудно'): 1.3236513485888048,\n",
              " (109, 'rsi,'): 1.0180565584951997,\n",
              " (109, 'вы'): 0.4232467113055728,\n",
              " (109, 'заявку'): 0.5246475623581291,\n",
              " (109, 'как'): 0.11008913704483889,\n",
              " (109, 'когда'): 0.28796328500245183,\n",
              " (109, 'на'): 0.18302849024249815,\n",
              " (109, 'подаете'): 0.8092627304126384,\n",
              " (109, 'программы,'): 0.7910082665740814,\n",
              " (109, 'становитесь'): 0.6705120834468958,\n",
              " (109, 'старшим'): 0.7952108377096558,\n",
              " (109, 'такие'): 0.49686410305572115,\n",
              " (110, 'из'): 1.1126342100782818,\n",
              " (110, 'израиля'): 2.914386886233539,\n",
              " (110, 'кто'): 1.4637445567241327,\n",
              " (111, 'другу,'): 0.45761094711335765,\n",
              " (111, 'его'): 0.2404427320977991,\n",
              " (111, 'и'): 0.10520463528728408,\n",
              " (111, 'истинных'): 0.6225043216813287,\n",
              " (111, 'к'): 0.4069313802860731,\n",
              " (111, 'который'): 0.18804357031842142,\n",
              " (111, 'лжет'): 0.48320546025688105,\n",
              " (111, 'мой'): 0.23912022461658322,\n",
              " (111, 'ней'): 0.38928847495005425,\n",
              " (111, 'о'): 0.18612629688715526,\n",
              " (111, 'парень,'): 0.4127326088422417,\n",
              " (111, 'привлекает'): 0.4807896207046733,\n",
              " (111, 'своему'): 0.4045669316006503,\n",
              " (111, 'своих'): 0.31377215498886624,\n",
              " (111, 'тайно'): 0.4870383975617117,\n",
              " (111, 'чувствах'): 0.5383861143130079,\n",
              " (111, 'это'): 0.1715319722626021,\n",
              " (112, 'какие'): 0.7084904739264147,\n",
              " (112, 'рэп-песни'): 2.664633520973962,\n",
              " ...}"
            ]
          },
          "metadata": {
            "tags": []
          },
          "execution_count": 74
        }
      ]
    },
    {
      "cell_type": "code",
      "metadata": {
        "id": "Sj0qsxzHTe7w",
        "colab_type": "code",
        "outputId": "25291bfa-d4dd-41c8-e7b8-478f951b9e48",
        "colab": {
          "base_uri": "https://localhost:8080/",
          "height": 207
        }
      },
      "source": [
        "!pip install ujson"
      ],
      "execution_count": 0,
      "outputs": [
        {
          "output_type": "stream",
          "text": [
            "Collecting ujson\n",
            "\u001b[?25l  Downloading https://files.pythonhosted.org/packages/16/c4/79f3409bc710559015464e5f49b9879430d8f87498ecdc335899732e5377/ujson-1.35.tar.gz (192kB)\n",
            "\r\u001b[K     |█▊                              | 10kB 14.2MB/s eta 0:00:01\r\u001b[K     |███▍                            | 20kB 2.2MB/s eta 0:00:01\r\u001b[K     |█████▏                          | 30kB 3.2MB/s eta 0:00:01\r\u001b[K     |██████▉                         | 40kB 2.1MB/s eta 0:00:01\r\u001b[K     |████████▌                       | 51kB 2.2MB/s eta 0:00:01\r\u001b[K     |██████████▎                     | 61kB 2.7MB/s eta 0:00:01\r\u001b[K     |████████████                    | 71kB 2.5MB/s eta 0:00:01\r\u001b[K     |█████████████▋                  | 81kB 2.4MB/s eta 0:00:01\r\u001b[K     |███████████████▍                | 92kB 2.6MB/s eta 0:00:01\r\u001b[K     |█████████████████               | 102kB 2.5MB/s eta 0:00:01\r\u001b[K     |██████████████████▊             | 112kB 2.5MB/s eta 0:00:01\r\u001b[K     |████████████████████▌           | 122kB 2.5MB/s eta 0:00:01\r\u001b[K     |██████████████████████▏         | 133kB 2.5MB/s eta 0:00:01\r\u001b[K     |████████████████████████        | 143kB 2.5MB/s eta 0:00:01\r\u001b[K     |█████████████████████████▋      | 153kB 2.5MB/s eta 0:00:01\r\u001b[K     |███████████████████████████▎    | 163kB 2.5MB/s eta 0:00:01\r\u001b[K     |█████████████████████████████   | 174kB 2.5MB/s eta 0:00:01\r\u001b[K     |██████████████████████████████▊ | 184kB 2.5MB/s eta 0:00:01\r\u001b[K     |████████████████████████████████| 194kB 2.5MB/s \n",
            "\u001b[?25hBuilding wheels for collected packages: ujson\n",
            "  Building wheel for ujson (setup.py) ... \u001b[?25l\u001b[?25hdone\n",
            "  Created wheel for ujson: filename=ujson-1.35-cp36-cp36m-linux_x86_64.whl size=68023 sha256=360872e4a829faaeec7066775c72412a0f3f6015ee5957cd986f4d01ebf4b87b\n",
            "  Stored in directory: /root/.cache/pip/wheels/28/77/e4/0311145b9c2e2f01470e744855131f9e34d6919687550f87d1\n",
            "Successfully built ujson\n",
            "Installing collected packages: ujson\n",
            "Successfully installed ujson-1.35\n"
          ],
          "name": "stdout"
        }
      ]
    },
    {
      "cell_type": "code",
      "metadata": {
        "id": "eUgvSJDRUrRo",
        "colab_type": "code",
        "colab": {}
      },
      "source": [
        "import pprint"
      ],
      "execution_count": 0,
      "outputs": []
    },
    {
      "cell_type": "code",
      "metadata": {
        "id": "EyBEcVwxTQr9",
        "colab_type": "code",
        "colab": {}
      },
      "source": [
        "with open ('TF-IDF.json', 'w', encoding='utf-8') as file:\n",
        "    pprint.pprint(tf_idf, indent=4, stream=file)\n",
        "    file.close()"
      ],
      "execution_count": 0,
      "outputs": []
    },
    {
      "cell_type": "markdown",
      "metadata": {
        "id": "uJpzmy4hG5Ly",
        "colab_type": "text"
      },
      "source": [
        "# TF-IDF Matching Score Ranking"
      ]
    },
    {
      "cell_type": "code",
      "metadata": {
        "id": "sqev4i8yaW79",
        "colab_type": "code",
        "colab": {}
      },
      "source": [
        "def preprocess_query(query):\n",
        "    query = query.lower()\n",
        "    query = query.strip('!\\\"#$%&()*+-./:;<=>?@[\\]^_`{|}~\\n')\n",
        "    \n",
        "    return query"
      ],
      "execution_count": 0,
      "outputs": []
    },
    {
      "cell_type": "code",
      "metadata": {
        "id": "jbiHxy0cGtnO",
        "colab_type": "code",
        "colab": {}
      },
      "source": [
        "def matching_score(k, query):\n",
        "    preprocessed_query = preprocess_query(query)\n",
        "    tokens = str(preprocessed_query).split()\n",
        "\n",
        "#    print(\"Matching Score\")\n",
        "#    print(\"\\nQuery:\", query)\n",
        "#    print(\"\")\n",
        "#    print(tokens)\n",
        "    \n",
        "    query_weights = {}\n",
        "\n",
        "    for key in tf_idf:\n",
        "        \n",
        "        if key[1] in tokens:\n",
        "            try:\n",
        "                query_weights[key[0]] += tf_idf[key]\n",
        "            except:\n",
        "                query_weights[key[0]] = tf_idf[key]\n",
        "    \n",
        "    query_weights = sorted(query_weights.items(), key=lambda x: x[1], reverse=True)\n",
        "\n",
        "    print(\"\")\n",
        "    \n",
        "    l = []\n",
        "    \n",
        "    for i in query_weights[:10]:\n",
        "        l.append(i[0])\n",
        "    \n",
        "#    print(l)\n",
        "    return(tokens, l)"
      ],
      "execution_count": 0,
      "outputs": []
    },
    {
      "cell_type": "code",
      "metadata": {
        "id": "Gky1BAn9HOTF",
        "colab_type": "code",
        "outputId": "aece5922-75a2-405c-a1c8-50c1135d1114",
        "colab": {
          "base_uri": "https://localhost:8080/",
          "height": 221
        }
      },
      "source": [
        "matching_score(10, \"рождественские каникулы\")"
      ],
      "execution_count": 0,
      "outputs": [
        {
          "output_type": "stream",
          "text": [
            "\n"
          ],
          "name": "stdout"
        },
        {
          "output_type": "execute_result",
          "data": {
            "text/plain": [
              "(['рождественские', 'каникулы'],\n",
              " [729631,\n",
              "  156476,\n",
              "  163782,\n",
              "  441804,\n",
              "  527891,\n",
              "  584126,\n",
              "  618607,\n",
              "  618608,\n",
              "  778514,\n",
              "  35417])"
            ]
          },
          "metadata": {
            "tags": []
          },
          "execution_count": 25
        }
      ]
    },
    {
      "cell_type": "markdown",
      "metadata": {
        "id": "f7rkqxIvHc5S",
        "colab_type": "text"
      },
      "source": [
        "# TF-IDF Cosine Similarity Ranking"
      ]
    },
    {
      "cell_type": "code",
      "metadata": {
        "id": "4UfIj9BPHabt",
        "colab_type": "code",
        "colab": {}
      },
      "source": [
        "def cosine_sim(a, b):\n",
        "    cos_sim = np.dot(a, b)/(np.linalg.norm(a)*np.linalg.norm(b))\n",
        "    return cos_sim"
      ],
      "execution_count": 0,
      "outputs": []
    },
    {
      "cell_type": "code",
      "metadata": {
        "id": "Pm3ZSFLXkw5N",
        "colab_type": "code",
        "colab": {}
      },
      "source": [
        "#from itertools import islice"
      ],
      "execution_count": 0,
      "outputs": []
    },
    {
      "cell_type": "code",
      "metadata": {
        "id": "qKTBRKUClMm2",
        "colab_type": "code",
        "colab": {}
      },
      "source": [
        "#def split_dict_equally(input_dict, chunks=100):\n",
        "#    return_list = [dict() for idx in range(chunks)]\n",
        "#    idx = 0\n",
        "#    for k,v in input_dict.items():\n",
        "#        return_list[idx][k] = v\n",
        "#        if idx < chunks-1:  \n",
        "#            idx += 1\n",
        "#        else:\n",
        "#            idx = 0\n",
        "#    return return_list"
      ],
      "execution_count": 0,
      "outputs": []
    },
    {
      "cell_type": "code",
      "metadata": {
        "id": "EwNu9EoklQ3U",
        "colab_type": "code",
        "colab": {}
      },
      "source": [
        "#chunks = split_dict_equally(DF)"
      ],
      "execution_count": 0,
      "outputs": []
    },
    {
      "cell_type": "code",
      "metadata": {
        "id": "vFEKB3DAoWcv",
        "colab_type": "code",
        "colab": {}
      },
      "source": [
        "#for idx, element in enumerate(chunks[1]):\n",
        "#  print(idx)"
      ],
      "execution_count": 0,
      "outputs": []
    },
    {
      "cell_type": "code",
      "metadata": {
        "id": "HAbt6v5_xvx0",
        "colab_type": "code",
        "colab": {}
      },
      "source": [
        "total_vocab = [x for x in DF]"
      ],
      "execution_count": 0,
      "outputs": []
    },
    {
      "cell_type": "code",
      "metadata": {
        "id": "kFJLgOo-kxki",
        "colab_type": "code",
        "colab": {}
      },
      "source": [
        "D = np.zeros((N, total_vocab_size)) #session crushes after using all available RAM\n",
        "for i in tf_idf:\n",
        "    try:\n",
        "        ind = total_vocab.index(i[1])\n",
        "        D[i[0]][ind] = tf_idf[i]\n",
        "    except:\n",
        "        pass"
      ],
      "execution_count": 0,
      "outputs": []
    },
    {
      "cell_type": "code",
      "metadata": {
        "id": "O_U6DtnWHgrZ",
        "colab_type": "code",
        "colab": {}
      },
      "source": [
        "def gen_vector(tokens):\n",
        "\n",
        "    Q = np.zeros((len(total_vocab)))\n",
        "    \n",
        "    counter = Counter(tokens)\n",
        "    words_count = len(tokens)\n",
        "\n",
        "    query_weights = {}\n",
        "    \n",
        "    for token in np.unique(tokens):\n",
        "        \n",
        "        tf = counter[token]/words_count\n",
        "        df = doc_freq(token)\n",
        "        idf = math.log((N+1)/(df+1))\n",
        "\n",
        "        try:\n",
        "            ind = total_vocab.index(token)\n",
        "            Q[ind] = tf*idf\n",
        "        except:\n",
        "            pass\n",
        "    return Q"
      ],
      "execution_count": 0,
      "outputs": []
    },
    {
      "cell_type": "code",
      "metadata": {
        "id": "otRT0k9FHizB",
        "colab_type": "code",
        "colab": {}
      },
      "source": [
        "def cosine_similarity(k, query):\n",
        "    print(\"Cosine Similarity\")\n",
        "    preprocessed_query = preprocess(query)\n",
        "    tokens = word_tokenize(str(preprocessed_query))\n",
        "    \n",
        "    print(\"\\nQuery:\", query)\n",
        "    print(\"\")\n",
        "    print(tokens)\n",
        "    \n",
        "    d_cosines = []\n",
        "    \n",
        "    query_vector = gen_vector(tokens)\n",
        "    \n",
        "    for d in D:\n",
        "        d_cosines.append(cosine_sim(query_vector, d))\n",
        "        \n",
        "    out = np.array(d_cosines).argsort()[-k:][::-1]\n",
        "    \n",
        "    print(\"\")\n",
        "    \n",
        "    print(out)"
      ],
      "execution_count": 0,
      "outputs": []
    },
    {
      "cell_type": "code",
      "metadata": {
        "id": "7PCgX8EXHk5y",
        "colab_type": "code",
        "colab": {}
      },
      "source": [
        "Q = cosine_similarity(10, \"рождественские каникулы\")"
      ],
      "execution_count": 0,
      "outputs": []
    },
    {
      "cell_type": "markdown",
      "metadata": {
        "id": "ONjb_ouwpi_I",
        "colab_type": "text"
      },
      "source": [
        "# Cosine Similarity (SKlearn)"
      ]
    },
    {
      "cell_type": "code",
      "metadata": {
        "id": "NthT-5RQprST",
        "colab_type": "code",
        "colab": {}
      },
      "source": [
        "from sklearn.metrics.pairwise import cosine_similarity"
      ],
      "execution_count": 0,
      "outputs": []
    },
    {
      "cell_type": "code",
      "metadata": {
        "id": "7tq92E09psoA",
        "colab_type": "code",
        "colab": {}
      },
      "source": [
        "from sklearn.feature_extraction.text import CountVectorizer\n",
        "from sklearn.feature_extraction.text import TfidfTransformer"
      ],
      "execution_count": 0,
      "outputs": []
    },
    {
      "cell_type": "code",
      "metadata": {
        "id": "GHneFe6Pq3Rg",
        "colab_type": "code",
        "colab": {}
      },
      "source": [
        "documents = []\n",
        "for idx, element in enumerate(lemmas):\n",
        "  for el in element:\n",
        "    documents.append(el)"
      ],
      "execution_count": 0,
      "outputs": []
    },
    {
      "cell_type": "code",
      "metadata": {
        "id": "Cyne_1d2q3Ig",
        "colab_type": "code",
        "colab": {}
      },
      "source": [
        "cv = CountVectorizer()"
      ],
      "execution_count": 0,
      "outputs": []
    },
    {
      "cell_type": "code",
      "metadata": {
        "id": "sLT6em2Nq3a6",
        "colab_type": "code",
        "outputId": "fdf4f557-55de-41b1-858a-2e65536c0323",
        "colab": {
          "base_uri": "https://localhost:8080/",
          "height": 51
        }
      },
      "source": [
        "cv.fit_transform(documents)"
      ],
      "execution_count": 0,
      "outputs": [
        {
          "output_type": "execute_result",
          "data": {
            "text/plain": [
              "<7551870x183728 sparse matrix of type '<class 'numpy.int64'>'\n",
              "\twith 6811249 stored elements in Compressed Sparse Row format>"
            ]
          },
          "metadata": {
            "tags": []
          },
          "execution_count": 74
        }
      ]
    },
    {
      "cell_type": "code",
      "metadata": {
        "id": "Mje2qs9NsjFC",
        "colab_type": "code",
        "colab": {}
      },
      "source": [
        "tf_matrix = cv.transform(documents).toarray() #session crushes after using all available RAM"
      ],
      "execution_count": 0,
      "outputs": []
    },
    {
      "cell_type": "code",
      "metadata": {
        "id": "JoNvBwr9st8B",
        "colab_type": "code",
        "colab": {}
      },
      "source": [
        "tf_matrix.shape"
      ],
      "execution_count": 0,
      "outputs": []
    },
    {
      "cell_type": "code",
      "metadata": {
        "id": "7EcAEmtC0mQQ",
        "colab_type": "code",
        "colab": {}
      },
      "source": [
        "tfidfTran = TfidfTransformer(norm=\"l2\")\n",
        "tfidfTran.fit(tf_matrix)"
      ],
      "execution_count": 0,
      "outputs": []
    },
    {
      "cell_type": "code",
      "metadata": {
        "id": "iXYGGLrc04I7",
        "colab_type": "code",
        "colab": {}
      },
      "source": [
        "def idf(n,df):\n",
        "    result = math.log((n+1.0)/(df+1.0)) + 1\n",
        "    return result"
      ],
      "execution_count": 0,
      "outputs": []
    },
    {
      "cell_type": "code",
      "metadata": {
        "id": "MzWfXtGj1QgL",
        "colab_type": "code",
        "colab": {}
      },
      "source": [
        "tfidf_matrix = tfidfTran.transform(tf_matrix)"
      ],
      "execution_count": 0,
      "outputs": []
    },
    {
      "cell_type": "code",
      "metadata": {
        "id": "VNUlcxJJ1RCO",
        "colab_type": "code",
        "colab": {}
      },
      "source": [
        "cos_similarity_matrix = (tfidf_matrix * tfidf_matrix.T).toarray()"
      ],
      "execution_count": 0,
      "outputs": []
    },
    {
      "cell_type": "code",
      "metadata": {
        "id": "YZseaMvw1cH_",
        "colab_type": "code",
        "colab": {}
      },
      "source": [
        "cos_similarity_matrix"
      ],
      "execution_count": 0,
      "outputs": []
    },
    {
      "cell_type": "markdown",
      "metadata": {
        "id": "WlkZfyK5K9jY",
        "colab_type": "text"
      },
      "source": [
        "# Okapi BM25"
      ]
    },
    {
      "cell_type": "code",
      "metadata": {
        "id": "Gitbgt70LLEN",
        "colab_type": "code",
        "colab": {}
      },
      "source": [
        "from math import log"
      ],
      "execution_count": 0,
      "outputs": []
    },
    {
      "cell_type": "code",
      "metadata": {
        "id": "T8sMjTTsLRq4",
        "colab_type": "code",
        "colab": {}
      },
      "source": [
        "def compute_avdl(documents): \n",
        "    N = len(documents)\n",
        "    sum_text_len = 0\n",
        "    for text in documents:\n",
        "        sum_text_len += len(text)\n",
        "        \n",
        "    avdl = sum_text_len / N\n",
        "    avdl = round(avdl, 0)    \n",
        "    return avdl\n",
        "\n",
        "def compute_K(dl, avdl):\n",
        "    k1 = 2.0\n",
        "    b = 0.75\n",
        "    return k1 * ((1-b) + b * (float(dl)/float(avdl)))"
      ],
      "execution_count": 0,
      "outputs": []
    },
    {
      "cell_type": "code",
      "metadata": {
        "id": "BJZ6h2MXLTg2",
        "colab_type": "code",
        "colab": {}
      },
      "source": [
        "k1 = 2.0\n",
        "b = 0.75\n",
        "N = len(lemmas)\n",
        "for q in inv_idx:\n",
        "  n = len(inv_idx[q])\n",
        "\n",
        "avdl = compute_avdl(lemmas)\n",
        "dl = len(inv_idx)\n",
        "\n",
        "fq = 0\n",
        "for doc in lemmas:\n",
        "  for word in doc:\n",
        "        if q == word:\n",
        "            fq += 1  \n",
        "\n",
        "K = compute_K(dl, avdl)\n",
        "IDF = log((N - n + 0.5) / (n + 0.5))\n",
        "frac = ((k1 + 1) * fq) / (K + fq)"
      ],
      "execution_count": 0,
      "outputs": []
    },
    {
      "cell_type": "code",
      "metadata": {
        "id": "i7ulBq0JLWVm",
        "colab_type": "code",
        "outputId": "47f8a174-7f99-410b-b0f6-2567cae7d988",
        "colab": {
          "base_uri": "https://localhost:8080/",
          "height": 34
        }
      },
      "source": [
        "print(IDF * frac)"
      ],
      "execution_count": 0,
      "outputs": [
        {
          "output_type": "stream",
          "text": [
            "0.0009799926148190263\n"
          ],
          "name": "stdout"
        }
      ]
    },
    {
      "cell_type": "markdown",
      "metadata": {
        "id": "HEi25XxxH2PI",
        "colab_type": "text"
      },
      "source": [
        "# Fasttext"
      ]
    },
    {
      "cell_type": "code",
      "metadata": {
        "id": "IHveq6wDHu0D",
        "colab_type": "code",
        "colab": {}
      },
      "source": [
        "import sys\n",
        "import gensim\n",
        "from gensim.models.keyedvectors import KeyedVectors\n",
        "import zipfile"
      ],
      "execution_count": 0,
      "outputs": []
    },
    {
      "cell_type": "code",
      "metadata": {
        "id": "A43x1hdXJbJl",
        "colab_type": "code",
        "outputId": "b22943b4-c023-4514-82db-14ba2b4e51cd",
        "colab": {
          "base_uri": "https://localhost:8080/",
          "height": 204
        }
      },
      "source": [
        "!wget http://vectors.nlpl.eu/repository/11/181.zip"
      ],
      "execution_count": 0,
      "outputs": [
        {
          "output_type": "stream",
          "text": [
            "--2019-10-24 22:06:58--  http://vectors.nlpl.eu/repository/11/181.zip\n",
            "Resolving vectors.nlpl.eu (vectors.nlpl.eu)... 129.240.189.225\n",
            "Connecting to vectors.nlpl.eu (vectors.nlpl.eu)|129.240.189.225|:80... connected.\n",
            "HTTP request sent, awaiting response... 200 OK\n",
            "Length: 2622716217 (2.4G) [application/zip]\n",
            "Saving to: ‘181.zip’\n",
            "\n",
            "181.zip             100%[===================>]   2.44G  21.1MB/s    in 2m 26s  \n",
            "\n",
            "2019-10-24 22:09:25 (17.1 MB/s) - ‘181.zip’ saved [2622716217/2622716217]\n",
            "\n"
          ],
          "name": "stdout"
        }
      ]
    },
    {
      "cell_type": "code",
      "metadata": {
        "id": "3tOECx0nJfTP",
        "colab_type": "code",
        "outputId": "0234f1c1-6b43-429e-ecc1-83b266f09efb",
        "colab": {
          "base_uri": "https://localhost:8080/",
          "height": 136
        }
      },
      "source": [
        "!unzip 181.zip -d 'fasttext_model'"
      ],
      "execution_count": 0,
      "outputs": [
        {
          "output_type": "stream",
          "text": [
            "Archive:  181.zip\n",
            "  inflating: fasttext_model/meta.json  \n",
            "  inflating: fasttext_model/model.model  \n",
            "  inflating: fasttext_model/model.model.vectors_ngrams.npy  \n",
            "  inflating: fasttext_model/model.model.vectors.npy  \n",
            "  inflating: fasttext_model/model.model.vectors_vocab.npy  \n",
            "  inflating: fasttext_model/README   \n"
          ],
          "name": "stdout"
        }
      ]
    },
    {
      "cell_type": "code",
      "metadata": {
        "id": "O3zznAiCJg2d",
        "colab_type": "code",
        "colab": {}
      },
      "source": [
        "model_file = './fasttext_model/model.model'"
      ],
      "execution_count": 0,
      "outputs": []
    },
    {
      "cell_type": "code",
      "metadata": {
        "id": "wnWoXJeTJiya",
        "colab_type": "code",
        "outputId": "0cf369db-fec2-41ba-dd8a-2c6d28bf07e6",
        "colab": {
          "base_uri": "https://localhost:8080/",
          "height": 71
        }
      },
      "source": [
        "model= KeyedVectors.load(model_file)"
      ],
      "execution_count": 0,
      "outputs": [
        {
          "output_type": "stream",
          "text": [
            "/usr/local/lib/python3.6/dist-packages/smart_open/smart_open_lib.py:398: UserWarning: This function is deprecated, use smart_open.open instead. See the migration notes for details: https://github.com/RaRe-Technologies/smart_open/blob/master/README.rst#migrating-to-the-new-open-function\n",
            "  'See the migration notes for details: %s' % _MIGRATION_NOTES_URL\n"
          ],
          "name": "stderr"
        }
      ]
    },
    {
      "cell_type": "code",
      "metadata": {
        "id": "AYJ9w3lM2SgT",
        "colab_type": "code",
        "colab": {}
      },
      "source": [
        "lemmas_new = list(chain.from_iterable(lemmas))"
      ],
      "execution_count": 0,
      "outputs": []
    },
    {
      "cell_type": "code",
      "metadata": {
        "id": "MmaBeQhNJkja",
        "colab_type": "code",
        "colab": {}
      },
      "source": [
        "# создаем маски для векторов \n",
        "lemmas_vectors = np.zeros((len(lemmas_new), model.vector_size))\n",
        "vec = np.zeros((model.vector_size,))"
      ],
      "execution_count": 0,
      "outputs": []
    },
    {
      "cell_type": "code",
      "metadata": {
        "id": "Lhiu-9YS14Va",
        "colab_type": "code",
        "outputId": "f4bc7f94-c2f4-4a69-9630-c4b9058a3c2b",
        "colab": {
          "base_uri": "https://localhost:8080/",
          "height": 394
        }
      },
      "source": [
        "for idx, lemma in enumerate(lemmas_new):\n",
        "    if lemma in model.wv:\n",
        "        lemmas_vectors[idx] = model.wv[lemma]"
      ],
      "execution_count": 0,
      "outputs": [
        {
          "output_type": "stream",
          "text": [
            "/usr/local/lib/python3.6/dist-packages/ipykernel_launcher.py:2: DeprecationWarning: Call to deprecated `wv` (Attribute will be removed in 4.0.0, use self instead).\n",
            "  \n"
          ],
          "name": "stderr"
        },
        {
          "output_type": "error",
          "ename": "AttributeError",
          "evalue": "ignored",
          "traceback": [
            "\u001b[0;31m---------------------------------------------------------------------------\u001b[0m",
            "\u001b[0;31mAttributeError\u001b[0m                            Traceback (most recent call last)",
            "\u001b[0;32m<ipython-input-29-98466c498b5d>\u001b[0m in \u001b[0;36m<module>\u001b[0;34m()\u001b[0m\n\u001b[1;32m      1\u001b[0m \u001b[0;32mfor\u001b[0m \u001b[0midx\u001b[0m\u001b[0;34m,\u001b[0m \u001b[0mlemma\u001b[0m \u001b[0;32min\u001b[0m \u001b[0menumerate\u001b[0m\u001b[0;34m(\u001b[0m\u001b[0mlemmas_new\u001b[0m\u001b[0;34m)\u001b[0m\u001b[0;34m:\u001b[0m\u001b[0;34m\u001b[0m\u001b[0;34m\u001b[0m\u001b[0m\n\u001b[0;32m----> 2\u001b[0;31m     \u001b[0;32mif\u001b[0m \u001b[0mlemma\u001b[0m \u001b[0;32min\u001b[0m \u001b[0mmodel\u001b[0m\u001b[0;34m.\u001b[0m\u001b[0mwv\u001b[0m\u001b[0;34m:\u001b[0m\u001b[0;34m\u001b[0m\u001b[0;34m\u001b[0m\u001b[0m\n\u001b[0m\u001b[1;32m      3\u001b[0m         \u001b[0mlemmas_vectors\u001b[0m\u001b[0;34m[\u001b[0m\u001b[0midx\u001b[0m\u001b[0;34m]\u001b[0m \u001b[0;34m=\u001b[0m \u001b[0mmodel\u001b[0m\u001b[0;34m.\u001b[0m\u001b[0mwv\u001b[0m\u001b[0;34m[\u001b[0m\u001b[0mlemma\u001b[0m\u001b[0;34m]\u001b[0m\u001b[0;34m\u001b[0m\u001b[0;34m\u001b[0m\u001b[0m\n",
            "\u001b[0;32m/usr/local/lib/python3.6/dist-packages/gensim/models/keyedvectors.py\u001b[0m in \u001b[0;36m__contains__\u001b[0;34m(self, word)\u001b[0m\n\u001b[1;32m   1928\u001b[0m         \u001b[0;32melse\u001b[0m\u001b[0;34m:\u001b[0m\u001b[0;34m\u001b[0m\u001b[0;34m\u001b[0m\u001b[0m\n\u001b[1;32m   1929\u001b[0m             \u001b[0mchar_ngrams\u001b[0m \u001b[0;34m=\u001b[0m \u001b[0m_compute_ngrams\u001b[0m\u001b[0;34m(\u001b[0m\u001b[0mword\u001b[0m\u001b[0;34m,\u001b[0m \u001b[0mself\u001b[0m\u001b[0;34m.\u001b[0m\u001b[0mmin_n\u001b[0m\u001b[0;34m,\u001b[0m \u001b[0mself\u001b[0m\u001b[0;34m.\u001b[0m\u001b[0mmax_n\u001b[0m\u001b[0;34m)\u001b[0m\u001b[0;34m\u001b[0m\u001b[0;34m\u001b[0m\u001b[0m\n\u001b[0;32m-> 1930\u001b[0;31m             \u001b[0;32mreturn\u001b[0m \u001b[0many\u001b[0m\u001b[0;34m(\u001b[0m\u001b[0m_ft_hash\u001b[0m\u001b[0;34m(\u001b[0m\u001b[0mng\u001b[0m\u001b[0;34m)\u001b[0m \u001b[0;34m%\u001b[0m \u001b[0mself\u001b[0m\u001b[0;34m.\u001b[0m\u001b[0mbucket\u001b[0m \u001b[0;32min\u001b[0m \u001b[0mself\u001b[0m\u001b[0;34m.\u001b[0m\u001b[0mhash2index\u001b[0m \u001b[0;32mfor\u001b[0m \u001b[0mng\u001b[0m \u001b[0;32min\u001b[0m \u001b[0mchar_ngrams\u001b[0m\u001b[0;34m)\u001b[0m\u001b[0;34m\u001b[0m\u001b[0;34m\u001b[0m\u001b[0m\n\u001b[0m\u001b[1;32m   1931\u001b[0m \u001b[0;34m\u001b[0m\u001b[0m\n\u001b[1;32m   1932\u001b[0m     \u001b[0;32mdef\u001b[0m \u001b[0msave\u001b[0m\u001b[0;34m(\u001b[0m\u001b[0mself\u001b[0m\u001b[0;34m,\u001b[0m \u001b[0;34m*\u001b[0m\u001b[0margs\u001b[0m\u001b[0;34m,\u001b[0m \u001b[0;34m**\u001b[0m\u001b[0mkwargs\u001b[0m\u001b[0;34m)\u001b[0m\u001b[0;34m:\u001b[0m\u001b[0;34m\u001b[0m\u001b[0;34m\u001b[0m\u001b[0m\n",
            "\u001b[0;32m/usr/local/lib/python3.6/dist-packages/gensim/models/keyedvectors.py\u001b[0m in \u001b[0;36m<genexpr>\u001b[0;34m(.0)\u001b[0m\n\u001b[1;32m   1928\u001b[0m         \u001b[0;32melse\u001b[0m\u001b[0;34m:\u001b[0m\u001b[0;34m\u001b[0m\u001b[0;34m\u001b[0m\u001b[0m\n\u001b[1;32m   1929\u001b[0m             \u001b[0mchar_ngrams\u001b[0m \u001b[0;34m=\u001b[0m \u001b[0m_compute_ngrams\u001b[0m\u001b[0;34m(\u001b[0m\u001b[0mword\u001b[0m\u001b[0;34m,\u001b[0m \u001b[0mself\u001b[0m\u001b[0;34m.\u001b[0m\u001b[0mmin_n\u001b[0m\u001b[0;34m,\u001b[0m \u001b[0mself\u001b[0m\u001b[0;34m.\u001b[0m\u001b[0mmax_n\u001b[0m\u001b[0;34m)\u001b[0m\u001b[0;34m\u001b[0m\u001b[0;34m\u001b[0m\u001b[0m\n\u001b[0;32m-> 1930\u001b[0;31m             \u001b[0;32mreturn\u001b[0m \u001b[0many\u001b[0m\u001b[0;34m(\u001b[0m\u001b[0m_ft_hash\u001b[0m\u001b[0;34m(\u001b[0m\u001b[0mng\u001b[0m\u001b[0;34m)\u001b[0m \u001b[0;34m%\u001b[0m \u001b[0mself\u001b[0m\u001b[0;34m.\u001b[0m\u001b[0mbucket\u001b[0m \u001b[0;32min\u001b[0m \u001b[0mself\u001b[0m\u001b[0;34m.\u001b[0m\u001b[0mhash2index\u001b[0m \u001b[0;32mfor\u001b[0m \u001b[0mng\u001b[0m \u001b[0;32min\u001b[0m \u001b[0mchar_ngrams\u001b[0m\u001b[0;34m)\u001b[0m\u001b[0;34m\u001b[0m\u001b[0;34m\u001b[0m\u001b[0m\n\u001b[0m\u001b[1;32m   1931\u001b[0m \u001b[0;34m\u001b[0m\u001b[0m\n\u001b[1;32m   1932\u001b[0m     \u001b[0;32mdef\u001b[0m \u001b[0msave\u001b[0m\u001b[0;34m(\u001b[0m\u001b[0mself\u001b[0m\u001b[0;34m,\u001b[0m \u001b[0;34m*\u001b[0m\u001b[0margs\u001b[0m\u001b[0;34m,\u001b[0m \u001b[0;34m**\u001b[0m\u001b[0mkwargs\u001b[0m\u001b[0;34m)\u001b[0m\u001b[0;34m:\u001b[0m\u001b[0;34m\u001b[0m\u001b[0;34m\u001b[0m\u001b[0m\n",
            "\u001b[0;31mAttributeError\u001b[0m: 'FastTextKeyedVectors' object has no attribute 'hash2index'"
          ]
        }
      ]
    },
    {
      "cell_type": "markdown",
      "metadata": {
        "id": "N1NrosRiJpxD",
        "colab_type": "text"
      },
      "source": [
        "# ELMO"
      ]
    },
    {
      "cell_type": "code",
      "metadata": {
        "id": "tPp_EIyRJogz",
        "colab_type": "code",
        "outputId": "55f017ad-79c7-4a70-bb68-aefaeae6c060",
        "colab": {
          "base_uri": "https://localhost:8080/",
          "height": 204
        }
      },
      "source": [
        "!wget http://vectors.nlpl.eu/repository/11/170.zip"
      ],
      "execution_count": 0,
      "outputs": [
        {
          "output_type": "stream",
          "text": [
            "--2019-10-24 22:21:22--  http://vectors.nlpl.eu/repository/11/170.zip\n",
            "Resolving vectors.nlpl.eu (vectors.nlpl.eu)... 129.240.189.225\n",
            "Connecting to vectors.nlpl.eu (vectors.nlpl.eu)|129.240.189.225|:80... connected.\n",
            "HTTP request sent, awaiting response... 200 OK\n",
            "Length: 474536163 (453M) [application/zip]\n",
            "Saving to: ‘170.zip’\n",
            "\n",
            "170.zip             100%[===================>] 452.55M  21.8MB/s    in 32s     \n",
            "\n",
            "2019-10-24 22:21:54 (14.3 MB/s) - ‘170.zip’ saved [474536163/474536163]\n",
            "\n"
          ],
          "name": "stdout"
        }
      ]
    },
    {
      "cell_type": "code",
      "metadata": {
        "id": "t5kKjDFsJtxT",
        "colab_type": "code",
        "outputId": "a45523c5-ecc2-4288-fa8f-caef6189391d",
        "colab": {
          "base_uri": "https://localhost:8080/",
          "height": 34
        }
      },
      "source": [
        "!mkdir rus_model\n",
        "!cp 170.zip rus_model\n",
        "!ls rus_model"
      ],
      "execution_count": 0,
      "outputs": [
        {
          "output_type": "stream",
          "text": [
            "170.zip\n"
          ],
          "name": "stdout"
        }
      ]
    },
    {
      "cell_type": "code",
      "metadata": {
        "id": "KHySedxEJxIU",
        "colab_type": "code",
        "colab": {}
      },
      "source": [
        "from zipfile import ZipFile\n",
        "with ZipFile('rus_model/170.zip', 'r') as zipObj:\n",
        "  zipObj.extractall('./rus_model')"
      ],
      "execution_count": 0,
      "outputs": []
    },
    {
      "cell_type": "code",
      "metadata": {
        "id": "gF-UO9h8J4BM",
        "colab_type": "code",
        "colab": {}
      },
      "source": [
        "!rm rus_model/170.zip"
      ],
      "execution_count": 0,
      "outputs": []
    },
    {
      "cell_type": "code",
      "metadata": {
        "id": "K8yh6k8WJ4iA",
        "colab_type": "code",
        "outputId": "2307f5ab-61d2-4ec6-951a-06edc3b5fe8b",
        "colab": {
          "base_uri": "https://localhost:8080/",
          "height": 51
        }
      },
      "source": [
        "!ls rus_model"
      ],
      "execution_count": 0,
      "outputs": [
        {
          "output_type": "stream",
          "text": [
            "char.dic     encoder.pkl  README\t      word.dic\n",
            "config.json  meta.json\t  token_embedder.pkl\n"
          ],
          "name": "stdout"
        }
      ]
    },
    {
      "cell_type": "code",
      "metadata": {
        "id": "Pcovbxp6Jyqb",
        "colab_type": "code",
        "outputId": "1967415e-c768-40e8-b851-4642eb82a1e8",
        "colab": {
          "base_uri": "https://localhost:8080/",
          "height": 136
        }
      },
      "source": [
        "!git clone https://github.com/HIT-SCIR/ELMoForManyLangs"
      ],
      "execution_count": 0,
      "outputs": [
        {
          "output_type": "stream",
          "text": [
            "Cloning into 'ELMoForManyLangs'...\n",
            "remote: Enumerating objects: 3, done.\u001b[K\n",
            "remote: Counting objects: 100% (3/3), done.\u001b[K\n",
            "remote: Compressing objects: 100% (3/3), done.\u001b[K\n",
            "remote: Total 174 (delta 0), reused 2 (delta 0), pack-reused 171\n",
            "Receiving objects: 100% (174/174), 86.67 KiB | 1.84 MiB/s, done.\n",
            "Resolving deltas: 100% (85/85), done.\n"
          ],
          "name": "stdout"
        }
      ]
    },
    {
      "cell_type": "code",
      "metadata": {
        "id": "OzUaFVY9J1H0",
        "colab_type": "code",
        "outputId": "ab0a071d-168f-4148-e2c8-f7ae23744540",
        "colab": {
          "base_uri": "https://localhost:8080/",
          "height": 54
        }
      },
      "source": [
        "!head rus_model/config.json"
      ],
      "execution_count": 0,
      "outputs": [
        {
          "output_type": "stream",
          "text": [
            "{\"seed\": 1, \"gpu\": 2, \"train_path\": \"/users4/conll18st/raw_text/Russian/ru-20m.raw\", \"valid_path\": null, \"test_path\": null, \"config_path\": \"/users4/conll18st/elmo/configs/cnn_50_100_512_4096_sample.json\", \"word_embedding\": null, \"optimizer\": \"adam\", \"lr\": 0.001, \"lr_decay\": 0.8, \"model\": \"/users4/conll18st/elmo/src/final_models/ru.model\", \"batch_size\": 32, \"max_epoch\": 10, \"clip_grad\": 5, \"max_sent_len\": 20, \"min_count\": 3, \"max_vocab_size\": 150000, \"save_classify_layer\": false, \"valid_size\": 0, \"eval_steps\": 10000}\n"
          ],
          "name": "stdout"
        }
      ]
    },
    {
      "cell_type": "code",
      "metadata": {
        "id": "M0mmgLdYJ9mP",
        "colab_type": "code",
        "outputId": "98dbc6e7-8738-42ec-910c-6857e6e58458",
        "colab": {
          "base_uri": "https://localhost:8080/",
          "height": 292
        }
      },
      "source": [
        "!pip install -e ELMoForManyLangs/"
      ],
      "execution_count": 0,
      "outputs": [
        {
          "output_type": "stream",
          "text": [
            "Obtaining file:///content/ELMoForManyLangs\n",
            "Requirement already satisfied: torch in /usr/local/lib/python3.6/dist-packages (from elmoformanylangs==0.0.2) (1.3.0+cu100)\n",
            "Requirement already satisfied: h5py in /usr/local/lib/python3.6/dist-packages (from elmoformanylangs==0.0.2) (2.8.0)\n",
            "Requirement already satisfied: numpy in /usr/local/lib/python3.6/dist-packages (from elmoformanylangs==0.0.2) (1.17.3)\n",
            "Collecting overrides\n",
            "  Downloading https://files.pythonhosted.org/packages/7a/b2/2cb6a3fc8ee1dc8617e07e476be19723748ddfcce0c6b9db7a5f2d5b9598/overrides-2.0.tar.gz\n",
            "Requirement already satisfied: six in /usr/local/lib/python3.6/dist-packages (from h5py->elmoformanylangs==0.0.2) (1.12.0)\n",
            "Building wheels for collected packages: overrides\n",
            "  Building wheel for overrides (setup.py) ... \u001b[?25l\u001b[?25hdone\n",
            "  Created wheel for overrides: filename=overrides-2.0-cp36-none-any.whl size=4222 sha256=c172c1de6129c8b7d0ffdd3a3b045e79f1971a28558ade8a83c95399f1a775b3\n",
            "  Stored in directory: /root/.cache/pip/wheels/67/ab/57/d68b6dad468ff96b792770a83229451add2b347b0c12a10300\n",
            "Successfully built overrides\n",
            "Installing collected packages: overrides, elmoformanylangs\n",
            "  Running setup.py develop for elmoformanylangs\n",
            "Successfully installed elmoformanylangs overrides-2.0\n"
          ],
          "name": "stdout"
        }
      ]
    },
    {
      "cell_type": "code",
      "metadata": {
        "id": "ZsN7YpM_J_ZU",
        "colab_type": "code",
        "outputId": "566d7765-c30a-4efc-befa-8f9ae1e369c9",
        "colab": {
          "base_uri": "https://localhost:8080/",
          "height": 34
        }
      },
      "source": [
        "!ls ELMoForManyLangs/configs"
      ],
      "execution_count": 0,
      "outputs": [
        {
          "output_type": "stream",
          "text": [
            "cnn_0_100_512_4096_sample.json\tcnn_50_100_512_4096_sample.json\n"
          ],
          "name": "stdout"
        }
      ]
    },
    {
      "cell_type": "code",
      "metadata": {
        "id": "hexlxFwjKCCd",
        "colab_type": "code",
        "colab": {}
      },
      "source": [
        "import json\n",
        "with open('rus_model/config.json') as json_file:\n",
        "    data = json.load(json_file)"
      ],
      "execution_count": 0,
      "outputs": []
    },
    {
      "cell_type": "code",
      "metadata": {
        "id": "BRKmdZWrKDwQ",
        "colab_type": "code",
        "colab": {}
      },
      "source": [
        "data['config_path'] = '../ELMoForManyLangs/configs/cnn_50_100_512_4096_sample.json'"
      ],
      "execution_count": 0,
      "outputs": []
    },
    {
      "cell_type": "code",
      "metadata": {
        "id": "Tmlz76PIKFsv",
        "colab_type": "code",
        "colab": {}
      },
      "source": [
        "with open('rus_model/config.json', 'w') as outfile:\n",
        "    json.dump(data, outfile)"
      ],
      "execution_count": 0,
      "outputs": []
    },
    {
      "cell_type": "code",
      "metadata": {
        "id": "cik0AtSAKIE9",
        "colab_type": "code",
        "outputId": "fb0c5c96-31b5-489c-c811-0adf561f8ca8",
        "colab": {
          "base_uri": "https://localhost:8080/",
          "height": 867
        }
      },
      "source": [
        "from ELMoForManyLangs.elmoformanylangs import Embedder\n",
        "e = Embedder('./rus_model/')"
      ],
      "execution_count": 0,
      "outputs": [
        {
          "output_type": "stream",
          "text": [
            "2019-10-24 22:23:27,547 INFO: char embedding size: 3896\n",
            "2019-10-24 22:23:29,098 INFO: word embedding size: 329681\n",
            "2019-10-24 22:23:32,030 INFO: Model(\n",
            "  (token_embedder): ConvTokenEmbedder(\n",
            "    (word_emb_layer): EmbeddingLayer(\n",
            "      (embedding): Embedding(329681, 100, padding_idx=3)\n",
            "    )\n",
            "    (char_emb_layer): EmbeddingLayer(\n",
            "      (embedding): Embedding(3896, 50, padding_idx=3893)\n",
            "    )\n",
            "    (convolutions): ModuleList(\n",
            "      (0): Conv1d(50, 32, kernel_size=(1,), stride=(1,))\n",
            "      (1): Conv1d(50, 32, kernel_size=(2,), stride=(1,))\n",
            "      (2): Conv1d(50, 64, kernel_size=(3,), stride=(1,))\n",
            "      (3): Conv1d(50, 128, kernel_size=(4,), stride=(1,))\n",
            "      (4): Conv1d(50, 256, kernel_size=(5,), stride=(1,))\n",
            "      (5): Conv1d(50, 512, kernel_size=(6,), stride=(1,))\n",
            "      (6): Conv1d(50, 1024, kernel_size=(7,), stride=(1,))\n",
            "    )\n",
            "    (highways): Highway(\n",
            "      (_layers): ModuleList(\n",
            "        (0): Linear(in_features=2048, out_features=4096, bias=True)\n",
            "        (1): Linear(in_features=2048, out_features=4096, bias=True)\n",
            "      )\n",
            "    )\n",
            "    (projection): Linear(in_features=2148, out_features=512, bias=True)\n",
            "  )\n",
            "  (encoder): ElmobiLm(\n",
            "    (forward_layer_0): LstmCellWithProjection(\n",
            "      (input_linearity): Linear(in_features=512, out_features=16384, bias=False)\n",
            "      (state_linearity): Linear(in_features=512, out_features=16384, bias=True)\n",
            "      (state_projection): Linear(in_features=4096, out_features=512, bias=False)\n",
            "    )\n",
            "    (backward_layer_0): LstmCellWithProjection(\n",
            "      (input_linearity): Linear(in_features=512, out_features=16384, bias=False)\n",
            "      (state_linearity): Linear(in_features=512, out_features=16384, bias=True)\n",
            "      (state_projection): Linear(in_features=4096, out_features=512, bias=False)\n",
            "    )\n",
            "    (forward_layer_1): LstmCellWithProjection(\n",
            "      (input_linearity): Linear(in_features=512, out_features=16384, bias=False)\n",
            "      (state_linearity): Linear(in_features=512, out_features=16384, bias=True)\n",
            "      (state_projection): Linear(in_features=4096, out_features=512, bias=False)\n",
            "    )\n",
            "    (backward_layer_1): LstmCellWithProjection(\n",
            "      (input_linearity): Linear(in_features=512, out_features=16384, bias=False)\n",
            "      (state_linearity): Linear(in_features=512, out_features=16384, bias=True)\n",
            "      (state_projection): Linear(in_features=4096, out_features=512, bias=False)\n",
            "    )\n",
            "  )\n",
            ")\n"
          ],
          "name": "stderr"
        }
      ]
    },
    {
      "cell_type": "code",
      "metadata": {
        "id": "jI6VfcXuKKuu",
        "colab_type": "code",
        "colab": {}
      },
      "source": [
        "res = e.sents2elmo(lemmas_new) #session crushes after using all available RAM"
      ],
      "execution_count": 0,
      "outputs": []
    },
    {
      "cell_type": "code",
      "metadata": {
        "id": "uqmb_U44KOGF",
        "colab_type": "code",
        "colab": {}
      },
      "source": [
        "len(res)"
      ],
      "execution_count": 0,
      "outputs": []
    },
    {
      "cell_type": "code",
      "metadata": {
        "id": "4FFSQhiqK2oO",
        "colab_type": "code",
        "colab": {}
      },
      "source": [
        "import json"
      ],
      "execution_count": 0,
      "outputs": []
    },
    {
      "cell_type": "markdown",
      "metadata": {
        "id": "EqY9jjoBQ5Pv",
        "colab_type": "text"
      },
      "source": [
        "# Flask"
      ]
    },
    {
      "cell_type": "code",
      "metadata": {
        "id": "-jmHlEzOZ1Jb",
        "colab_type": "code",
        "outputId": "1c7f4074-3198-4241-f7bf-5cd5dc7ee391",
        "colab": {
          "base_uri": "https://localhost:8080/",
          "height": 34
        }
      },
      "source": [
        "import socket\n",
        "print(socket.gethostbyname(socket.getfqdn(socket.gethostname())))\n",
        "\n",
        "from flask import Flask\n",
        "from flask import url_for, render_template, request, redirect"
      ],
      "execution_count": 0,
      "outputs": [
        {
          "output_type": "stream",
          "text": [
            "172.28.0.2\n"
          ],
          "name": "stdout"
        }
      ]
    },
    {
      "cell_type": "code",
      "metadata": {
        "id": "c6-FLStnQ8QR",
        "colab_type": "code",
        "outputId": "4f938f5a-bd69-4041-a354-3b4567b3d345",
        "colab": {
          "base_uri": "https://localhost:8080/",
          "height": 445
        }
      },
      "source": [
        "app = Flask(__name__)\n",
        "\n",
        "\n",
        "def preprocess_query(query):\n",
        "    query = query.lower()\n",
        "    query = query.strip('!\\\"#$%&()*+-./:;<=>?@[\\]^_`{|}~\\n')\n",
        "    \n",
        "    return query\n",
        "\n",
        "  \n",
        "def matching_score(k, query):\n",
        "    preprocessed_query = preprocess_query(query)\n",
        "    tokens = str(preprocessed_query).split()\n",
        "    \n",
        "    query_weights = {}\n",
        "\n",
        "    for key in tf_idf:\n",
        "        \n",
        "        if key[1] in tokens:\n",
        "            try:\n",
        "                query_weights[key[0]] += tf_idf[key]\n",
        "            except:\n",
        "                query_weights[key[0]] = tf_idf[key]\n",
        "    \n",
        "    query_weights = sorted(query_weights.items(), key=lambda x: x[1], reverse=True)\n",
        "\n",
        "    print(\"\")\n",
        "    \n",
        "    l = []\n",
        "    \n",
        "    for i in query_weights[:10]:\n",
        "        l.append(i[0])\n",
        "    \n",
        "    return tokens, l \n",
        "\n",
        "  \n",
        "@app.route('/')\n",
        "def index():\n",
        "    urls = {'main_page': url_for('index'),\n",
        "           'results_data': url_for('results')}\n",
        "    return render_template('index.html', urls=urls)\n",
        "  \n",
        "@app.route('/results')\n",
        "def show_results():\n",
        "    with open('TF-IDF.json', 'r', encoding = 'utf-8') as file:\n",
        "          tf_idf = file.read()\n",
        "    input_query = request.args\n",
        "    input_query = preprocess_query(input_query)\n",
        "    tokens, l = matching_score(10, input_query)    \n",
        "    return render_template('results.html', query=query, tokens=tokens, l=l)\n",
        "\n",
        "\n",
        "if __name__ == '__main__':\n",
        "    app.run(debug=True) "
      ],
      "execution_count": 0,
      "outputs": [
        {
          "output_type": "stream",
          "text": [
            " * Serving Flask app \"__main__\" (lazy loading)\n",
            " * Environment: production\n",
            "   WARNING: This is a development server. Do not use it in a production deployment.\n",
            "   Use a production WSGI server instead.\n",
            " * Debug mode: on\n"
          ],
          "name": "stdout"
        },
        {
          "output_type": "error",
          "ename": "OSError",
          "evalue": "ignored",
          "traceback": [
            "\u001b[0;31m---------------------------------------------------------------------------\u001b[0m",
            "\u001b[0;31mOSError\u001b[0m                                   Traceback (most recent call last)",
            "\u001b[0;32m<ipython-input-44-816ed618b842>\u001b[0m in \u001b[0;36m<module>\u001b[0;34m()\u001b[0m\n\u001b[1;32m     52\u001b[0m \u001b[0;34m\u001b[0m\u001b[0m\n\u001b[1;32m     53\u001b[0m \u001b[0;32mif\u001b[0m \u001b[0m__name__\u001b[0m \u001b[0;34m==\u001b[0m \u001b[0;34m'__main__'\u001b[0m\u001b[0;34m:\u001b[0m\u001b[0;34m\u001b[0m\u001b[0;34m\u001b[0m\u001b[0m\n\u001b[0;32m---> 54\u001b[0;31m     \u001b[0mapp\u001b[0m\u001b[0;34m.\u001b[0m\u001b[0mrun\u001b[0m\u001b[0;34m(\u001b[0m\u001b[0mdebug\u001b[0m\u001b[0;34m=\u001b[0m\u001b[0;32mTrue\u001b[0m\u001b[0;34m)\u001b[0m\u001b[0;34m\u001b[0m\u001b[0;34m\u001b[0m\u001b[0m\n\u001b[0m",
            "\u001b[0;32m/usr/local/lib/python3.6/dist-packages/flask/app.py\u001b[0m in \u001b[0;36mrun\u001b[0;34m(self, host, port, debug, load_dotenv, **options)\u001b[0m\n\u001b[1;32m    988\u001b[0m \u001b[0;34m\u001b[0m\u001b[0m\n\u001b[1;32m    989\u001b[0m         \u001b[0;32mtry\u001b[0m\u001b[0;34m:\u001b[0m\u001b[0;34m\u001b[0m\u001b[0;34m\u001b[0m\u001b[0m\n\u001b[0;32m--> 990\u001b[0;31m             \u001b[0mrun_simple\u001b[0m\u001b[0;34m(\u001b[0m\u001b[0mhost\u001b[0m\u001b[0;34m,\u001b[0m \u001b[0mport\u001b[0m\u001b[0;34m,\u001b[0m \u001b[0mself\u001b[0m\u001b[0;34m,\u001b[0m \u001b[0;34m**\u001b[0m\u001b[0moptions\u001b[0m\u001b[0;34m)\u001b[0m\u001b[0;34m\u001b[0m\u001b[0;34m\u001b[0m\u001b[0m\n\u001b[0m\u001b[1;32m    991\u001b[0m         \u001b[0;32mfinally\u001b[0m\u001b[0;34m:\u001b[0m\u001b[0;34m\u001b[0m\u001b[0;34m\u001b[0m\u001b[0m\n\u001b[1;32m    992\u001b[0m             \u001b[0;31m# reset the first request information if the development server\u001b[0m\u001b[0;34m\u001b[0m\u001b[0;34m\u001b[0m\u001b[0;34m\u001b[0m\u001b[0m\n",
            "\u001b[0;32m/usr/local/lib/python3.6/dist-packages/werkzeug/serving.py\u001b[0m in \u001b[0;36mrun_simple\u001b[0;34m(hostname, port, application, use_reloader, use_debugger, use_evalex, extra_files, reloader_interval, reloader_type, threaded, processes, request_handler, static_files, passthrough_errors, ssl_context)\u001b[0m\n\u001b[1;32m    986\u001b[0m             \u001b[0ms\u001b[0m \u001b[0;34m=\u001b[0m \u001b[0msocket\u001b[0m\u001b[0;34m.\u001b[0m\u001b[0msocket\u001b[0m\u001b[0;34m(\u001b[0m\u001b[0maddress_family\u001b[0m\u001b[0;34m,\u001b[0m \u001b[0msocket\u001b[0m\u001b[0;34m.\u001b[0m\u001b[0mSOCK_STREAM\u001b[0m\u001b[0;34m)\u001b[0m\u001b[0;34m\u001b[0m\u001b[0;34m\u001b[0m\u001b[0m\n\u001b[1;32m    987\u001b[0m             \u001b[0ms\u001b[0m\u001b[0;34m.\u001b[0m\u001b[0msetsockopt\u001b[0m\u001b[0;34m(\u001b[0m\u001b[0msocket\u001b[0m\u001b[0;34m.\u001b[0m\u001b[0mSOL_SOCKET\u001b[0m\u001b[0;34m,\u001b[0m \u001b[0msocket\u001b[0m\u001b[0;34m.\u001b[0m\u001b[0mSO_REUSEADDR\u001b[0m\u001b[0;34m,\u001b[0m \u001b[0;36m1\u001b[0m\u001b[0;34m)\u001b[0m\u001b[0;34m\u001b[0m\u001b[0;34m\u001b[0m\u001b[0m\n\u001b[0;32m--> 988\u001b[0;31m             \u001b[0ms\u001b[0m\u001b[0;34m.\u001b[0m\u001b[0mbind\u001b[0m\u001b[0;34m(\u001b[0m\u001b[0mserver_address\u001b[0m\u001b[0;34m)\u001b[0m\u001b[0;34m\u001b[0m\u001b[0;34m\u001b[0m\u001b[0m\n\u001b[0m\u001b[1;32m    989\u001b[0m             \u001b[0;32mif\u001b[0m \u001b[0mhasattr\u001b[0m\u001b[0;34m(\u001b[0m\u001b[0ms\u001b[0m\u001b[0;34m,\u001b[0m \u001b[0;34m\"set_inheritable\"\u001b[0m\u001b[0;34m)\u001b[0m\u001b[0;34m:\u001b[0m\u001b[0;34m\u001b[0m\u001b[0;34m\u001b[0m\u001b[0m\n\u001b[1;32m    990\u001b[0m                 \u001b[0ms\u001b[0m\u001b[0;34m.\u001b[0m\u001b[0mset_inheritable\u001b[0m\u001b[0;34m(\u001b[0m\u001b[0;32mTrue\u001b[0m\u001b[0;34m)\u001b[0m\u001b[0;34m\u001b[0m\u001b[0;34m\u001b[0m\u001b[0m\n",
            "\u001b[0;31mOSError\u001b[0m: [Errno 98] Address already in use"
          ]
        }
      ]
    },
    {
      "cell_type": "code",
      "metadata": {
        "id": "FZfGQiKPk591",
        "colab_type": "code",
        "outputId": "415f3398-17d1-4c92-d130-f8b066e73663",
        "colab": {
          "base_uri": "https://localhost:8080/",
          "height": 119
        }
      },
      "source": [
        "import threading\n",
        "threading.Thread(target=app.run, kwargs={'host':'0.0.0.0','port':80}).start() "
      ],
      "execution_count": 0,
      "outputs": [
        {
          "output_type": "stream",
          "text": [
            " * Serving Flask app \"__main__\" (lazy loading)\n",
            " * Environment: production\n",
            "   WARNING: This is a development server. Do not use it in a production deployment.\n",
            "   Use a production WSGI server instead.\n",
            " * Debug mode: on\n"
          ],
          "name": "stdout"
        },
        {
          "output_type": "stream",
          "text": [
            " * Running on http://0.0.0.0:80/ (Press CTRL+C to quit)\n"
          ],
          "name": "stderr"
        }
      ]
    }
  ]
}